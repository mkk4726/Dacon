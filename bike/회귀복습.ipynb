{
 "cells": [
  {
   "cell_type": "markdown",
   "id": "3e4e8ff7",
   "metadata": {},
   "source": [
    "# Bike"
   ]
  },
  {
   "cell_type": "code",
   "execution_count": 1,
   "id": "4a52d3be",
   "metadata": {},
   "outputs": [
    {
     "name": "stdout",
     "output_type": "stream",
     "text": [
      "['sampleSubmission.csv', 'test.csv', 'train.csv']\n"
     ]
    }
   ],
   "source": [
    "import os\n",
    "\n",
    "datapath = 'data/kaggle_bike'\n",
    "listdir = os.listdir(datapath)\n",
    "print(listdir)"
   ]
  },
  {
   "cell_type": "code",
   "execution_count": 2,
   "id": "6a2fd836",
   "metadata": {},
   "outputs": [],
   "source": [
    "import warnings\n",
    "warnings.filterwarnings(\"ignore\", category=RuntimeWarning)"
   ]
  },
  {
   "cell_type": "code",
   "execution_count": 3,
   "id": "466245f5",
   "metadata": {},
   "outputs": [
    {
     "name": "stdout",
     "output_type": "stream",
     "text": [
      "(10886, 12)\n"
     ]
    },
    {
     "data": {
      "text/html": [
       "<div>\n",
       "<style scoped>\n",
       "    .dataframe tbody tr th:only-of-type {\n",
       "        vertical-align: middle;\n",
       "    }\n",
       "\n",
       "    .dataframe tbody tr th {\n",
       "        vertical-align: top;\n",
       "    }\n",
       "\n",
       "    .dataframe thead th {\n",
       "        text-align: right;\n",
       "    }\n",
       "</style>\n",
       "<table border=\"1\" class=\"dataframe\">\n",
       "  <thead>\n",
       "    <tr style=\"text-align: right;\">\n",
       "      <th></th>\n",
       "      <th>datetime</th>\n",
       "      <th>season</th>\n",
       "      <th>holiday</th>\n",
       "      <th>workingday</th>\n",
       "      <th>weather</th>\n",
       "      <th>temp</th>\n",
       "      <th>atemp</th>\n",
       "      <th>humidity</th>\n",
       "      <th>windspeed</th>\n",
       "      <th>casual</th>\n",
       "      <th>registered</th>\n",
       "      <th>count</th>\n",
       "    </tr>\n",
       "  </thead>\n",
       "  <tbody>\n",
       "    <tr>\n",
       "      <th>0</th>\n",
       "      <td>2011-01-01 00:00:00</td>\n",
       "      <td>1</td>\n",
       "      <td>0</td>\n",
       "      <td>0</td>\n",
       "      <td>1</td>\n",
       "      <td>9.84</td>\n",
       "      <td>14.395</td>\n",
       "      <td>81</td>\n",
       "      <td>0.0</td>\n",
       "      <td>3</td>\n",
       "      <td>13</td>\n",
       "      <td>16</td>\n",
       "    </tr>\n",
       "    <tr>\n",
       "      <th>1</th>\n",
       "      <td>2011-01-01 01:00:00</td>\n",
       "      <td>1</td>\n",
       "      <td>0</td>\n",
       "      <td>0</td>\n",
       "      <td>1</td>\n",
       "      <td>9.02</td>\n",
       "      <td>13.635</td>\n",
       "      <td>80</td>\n",
       "      <td>0.0</td>\n",
       "      <td>8</td>\n",
       "      <td>32</td>\n",
       "      <td>40</td>\n",
       "    </tr>\n",
       "    <tr>\n",
       "      <th>2</th>\n",
       "      <td>2011-01-01 02:00:00</td>\n",
       "      <td>1</td>\n",
       "      <td>0</td>\n",
       "      <td>0</td>\n",
       "      <td>1</td>\n",
       "      <td>9.02</td>\n",
       "      <td>13.635</td>\n",
       "      <td>80</td>\n",
       "      <td>0.0</td>\n",
       "      <td>5</td>\n",
       "      <td>27</td>\n",
       "      <td>32</td>\n",
       "    </tr>\n",
       "  </tbody>\n",
       "</table>\n",
       "</div>"
      ],
      "text/plain": [
       "              datetime  season  holiday  workingday  weather  temp   atemp  \\\n",
       "0  2011-01-01 00:00:00       1        0           0        1  9.84  14.395   \n",
       "1  2011-01-01 01:00:00       1        0           0        1  9.02  13.635   \n",
       "2  2011-01-01 02:00:00       1        0           0        1  9.02  13.635   \n",
       "\n",
       "   humidity  windspeed  casual  registered  count  \n",
       "0        81        0.0       3          13     16  \n",
       "1        80        0.0       8          32     40  \n",
       "2        80        0.0       5          27     32  "
      ]
     },
     "execution_count": 3,
     "metadata": {},
     "output_type": "execute_result"
    }
   ],
   "source": [
    "import pandas as pd\n",
    "import numpy as np\n",
    "\n",
    "train_df = pd.read_csv(datapath + '/' + listdir[2])\n",
    "print(train_df.shape)\n",
    "train_df.head(3)"
   ]
  },
  {
   "cell_type": "code",
   "execution_count": 4,
   "id": "7d83e5e1",
   "metadata": {},
   "outputs": [
    {
     "name": "stdout",
     "output_type": "stream",
     "text": [
      "<class 'pandas.core.frame.DataFrame'>\n",
      "RangeIndex: 10886 entries, 0 to 10885\n",
      "Data columns (total 12 columns):\n",
      " #   Column      Non-Null Count  Dtype  \n",
      "---  ------      --------------  -----  \n",
      " 0   datetime    10886 non-null  object \n",
      " 1   season      10886 non-null  int64  \n",
      " 2   holiday     10886 non-null  int64  \n",
      " 3   workingday  10886 non-null  int64  \n",
      " 4   weather     10886 non-null  int64  \n",
      " 5   temp        10886 non-null  float64\n",
      " 6   atemp       10886 non-null  float64\n",
      " 7   humidity    10886 non-null  int64  \n",
      " 8   windspeed   10886 non-null  float64\n",
      " 9   casual      10886 non-null  int64  \n",
      " 10  registered  10886 non-null  int64  \n",
      " 11  count       10886 non-null  int64  \n",
      "dtypes: float64(3), int64(8), object(1)\n",
      "memory usage: 1020.7+ KB\n"
     ]
    }
   ],
   "source": [
    "train_df.info()"
   ]
  },
  {
   "cell_type": "markdown",
   "id": "272fa3d1",
   "metadata": {},
   "source": [
    "- datetime -> 년, 월, 일, 시:분:초. 4개로 분리\n",
    "- pandas 에서는 이를 쉽게할 수 있게하는 datetime datatype이 존재"
   ]
  },
  {
   "cell_type": "code",
   "execution_count": 5,
   "id": "99b057f8",
   "metadata": {},
   "outputs": [
    {
     "data": {
      "text/plain": [
       "0        2011-01-01 00:00:00\n",
       "1        2011-01-01 01:00:00\n",
       "2        2011-01-01 02:00:00\n",
       "3        2011-01-01 03:00:00\n",
       "4        2011-01-01 04:00:00\n",
       "                ...         \n",
       "10881    2012-12-19 19:00:00\n",
       "10882    2012-12-19 20:00:00\n",
       "10883    2012-12-19 21:00:00\n",
       "10884    2012-12-19 22:00:00\n",
       "10885    2012-12-19 23:00:00\n",
       "Name: datetime, Length: 10886, dtype: object"
      ]
     },
     "execution_count": 5,
     "metadata": {},
     "output_type": "execute_result"
    }
   ],
   "source": [
    "train_df.datetime"
   ]
  },
  {
   "cell_type": "code",
   "execution_count": 6,
   "id": "223a9ceb",
   "metadata": {},
   "outputs": [
    {
     "data": {
      "text/html": [
       "<div>\n",
       "<style scoped>\n",
       "    .dataframe tbody tr th:only-of-type {\n",
       "        vertical-align: middle;\n",
       "    }\n",
       "\n",
       "    .dataframe tbody tr th {\n",
       "        vertical-align: top;\n",
       "    }\n",
       "\n",
       "    .dataframe thead th {\n",
       "        text-align: right;\n",
       "    }\n",
       "</style>\n",
       "<table border=\"1\" class=\"dataframe\">\n",
       "  <thead>\n",
       "    <tr style=\"text-align: right;\">\n",
       "      <th></th>\n",
       "      <th>datetime</th>\n",
       "      <th>season</th>\n",
       "      <th>holiday</th>\n",
       "      <th>workingday</th>\n",
       "      <th>weather</th>\n",
       "      <th>temp</th>\n",
       "      <th>atemp</th>\n",
       "      <th>humidity</th>\n",
       "      <th>windspeed</th>\n",
       "      <th>casual</th>\n",
       "      <th>registered</th>\n",
       "      <th>count</th>\n",
       "      <th>year</th>\n",
       "      <th>month</th>\n",
       "      <th>day</th>\n",
       "      <th>hour</th>\n",
       "    </tr>\n",
       "  </thead>\n",
       "  <tbody>\n",
       "    <tr>\n",
       "      <th>0</th>\n",
       "      <td>2011-01-01 00:00:00</td>\n",
       "      <td>1</td>\n",
       "      <td>0</td>\n",
       "      <td>0</td>\n",
       "      <td>1</td>\n",
       "      <td>9.84</td>\n",
       "      <td>14.395</td>\n",
       "      <td>81</td>\n",
       "      <td>0.0</td>\n",
       "      <td>3</td>\n",
       "      <td>13</td>\n",
       "      <td>16</td>\n",
       "      <td>2011</td>\n",
       "      <td>1</td>\n",
       "      <td>1</td>\n",
       "      <td>0</td>\n",
       "    </tr>\n",
       "    <tr>\n",
       "      <th>1</th>\n",
       "      <td>2011-01-01 01:00:00</td>\n",
       "      <td>1</td>\n",
       "      <td>0</td>\n",
       "      <td>0</td>\n",
       "      <td>1</td>\n",
       "      <td>9.02</td>\n",
       "      <td>13.635</td>\n",
       "      <td>80</td>\n",
       "      <td>0.0</td>\n",
       "      <td>8</td>\n",
       "      <td>32</td>\n",
       "      <td>40</td>\n",
       "      <td>2011</td>\n",
       "      <td>1</td>\n",
       "      <td>1</td>\n",
       "      <td>1</td>\n",
       "    </tr>\n",
       "    <tr>\n",
       "      <th>2</th>\n",
       "      <td>2011-01-01 02:00:00</td>\n",
       "      <td>1</td>\n",
       "      <td>0</td>\n",
       "      <td>0</td>\n",
       "      <td>1</td>\n",
       "      <td>9.02</td>\n",
       "      <td>13.635</td>\n",
       "      <td>80</td>\n",
       "      <td>0.0</td>\n",
       "      <td>5</td>\n",
       "      <td>27</td>\n",
       "      <td>32</td>\n",
       "      <td>2011</td>\n",
       "      <td>1</td>\n",
       "      <td>1</td>\n",
       "      <td>2</td>\n",
       "    </tr>\n",
       "  </tbody>\n",
       "</table>\n",
       "</div>"
      ],
      "text/plain": [
       "             datetime  season  holiday  workingday  weather  temp   atemp  \\\n",
       "0 2011-01-01 00:00:00       1        0           0        1  9.84  14.395   \n",
       "1 2011-01-01 01:00:00       1        0           0        1  9.02  13.635   \n",
       "2 2011-01-01 02:00:00       1        0           0        1  9.02  13.635   \n",
       "\n",
       "   humidity  windspeed  casual  registered  count  year  month  day  hour  \n",
       "0        81        0.0       3          13     16  2011      1    1     0  \n",
       "1        80        0.0       8          32     40  2011      1    1     1  \n",
       "2        80        0.0       5          27     32  2011      1    1     2  "
      ]
     },
     "execution_count": 6,
     "metadata": {},
     "output_type": "execute_result"
    }
   ],
   "source": [
    "train_df['datetime'] = train_df.datetime.apply(pd.to_datetime) # 판다스의 datetime data type을 이용\n",
    "\n",
    "train_df['year'] = train_df.datetime.apply(lambda x: x.year)\n",
    "train_df['month'] = train_df.datetime.apply(lambda x: x.month)\n",
    "train_df['day'] = train_df.datetime.apply(lambda x: x.day)\n",
    "train_df['hour'] = train_df.datetime.apply(lambda x: x.hour)\n",
    "train_df.head(3)"
   ]
  },
  {
   "cell_type": "code",
   "execution_count": 7,
   "id": "2f9c4349",
   "metadata": {},
   "outputs": [],
   "source": [
    "drop_columns = ['datetime', 'casual', 'registered'] # 다중공성성 문제 예방\n",
    "train_df.drop(drop_columns, axis=1, inplace=True)"
   ]
  },
  {
   "cell_type": "code",
   "execution_count": 39,
   "id": "b577c682",
   "metadata": {},
   "outputs": [],
   "source": [
    "from sklearn.metrics import mean_squared_error, mean_absolute_error\n",
    "\n",
    "def rmsle(y, pred):\n",
    "    log_y = np.log1p(y)\n",
    "    log_pred = np.log1p(pred)\n",
    "    squared_error = (log_y - log_pred) ** 2\n",
    "    rmsle = np.sqrt(np.mean(squared_error))\n",
    "    return rmsle\n",
    "\n",
    "def rmse(y, pred):\n",
    "    return np.sqrt(mean_squared_error(y, pred))\n",
    "\n",
    "def evaluate_regr(y, ped):\n",
    "    rmsle_val = rmsle(y, pred)\n",
    "    rmse_val = rmse(y, pred)\n",
    "    mae_val = mean_absolute_error(y, pred)\n",
    "    print(\"RMSLE: {0:.3f}, RMSE: {1: .3f}, MAE: {2:.3f}\".format(rmsle_val, rmse_val, mae_val))"
   ]
  },
  {
   "cell_type": "code",
   "execution_count": 9,
   "id": "29845c55",
   "metadata": {},
   "outputs": [
    {
     "name": "stdout",
     "output_type": "stream",
     "text": [
      "RMSLE: 66.611, RMSE:  141.918, MAE: 106.232\n"
     ]
    }
   ],
   "source": [
    "from sklearn.model_selection import train_test_split, GridSearchCV\n",
    "from sklearn.linear_model import LinearRegression, Ridge, Lasso\n",
    "\n",
    "y_target = train_df['count']\n",
    "X_features = train_df.drop(['count'], axis=1, inplace=False)\n",
    "\n",
    "X_train, X_test, y_train, y_test = train_test_split(X_features, y_target, test_size=0.3)\n",
    "\n",
    "lr_reg = LinearRegression()\n",
    "lr_reg.fit(X_train, y_train)\n",
    "pred = lr_reg.predict(X_test)\n",
    "\n",
    "evaluate_regr(y_test, pred)"
   ]
  },
  {
   "cell_type": "code",
   "execution_count": 12,
   "id": "f8adbd3c",
   "metadata": {},
   "outputs": [],
   "source": [
    "def get_top_error_data(y_test, pred, n_tops=5):\n",
    "    result_df = pd.DataFrame(y_test.values, columns = ['real_count'])\n",
    "    result_df['predicted_count'] = np.round(pred)\n",
    "    result_df['diff'] = (np.abs(result_df['real_count'] - result_df['predicted_count'])\n",
    "    \n",
    "    print(result_df.sort_values('diff', ascending=False)[:n_tops])"
   ]
  },
  {
   "cell_type": "code",
   "execution_count": 13,
   "id": "e68ffb3b",
   "metadata": {},
   "outputs": [
    {
     "name": "stdout",
     "output_type": "stream",
     "text": [
      "      real_count  predicted_count   diff\n",
      "2618         834            188.0  646.0\n",
      "248          835            211.0  624.0\n",
      "404          809            197.0  612.0\n",
      "2756         784            181.0  603.0\n",
      "1391         890            320.0  570.0\n"
     ]
    }
   ],
   "source": [
    "get_top_error_data(y_test, pred, 5)"
   ]
  },
  {
   "cell_type": "code",
   "execution_count": 21,
   "id": "68d00511",
   "metadata": {},
   "outputs": [
    {
     "name": "stdout",
     "output_type": "stream",
     "text": [
      "1.2420662117180776\n"
     ]
    },
    {
     "data": {
      "text/plain": [
       "<AxesSubplot:>"
      ]
     },
     "execution_count": 21,
     "metadata": {},
     "output_type": "execute_result"
    },
    {
     "data": {
      "image/png": "[encoded data removed]",
      "text/plain": [
       "<Figure size 432x288 with 1 Axes>"
      ]
     },
     "metadata": {
      "needs_background": "light"
     },
     "output_type": "display_data"
    }
   ],
   "source": [
    "print(y_target.skew())\n",
    "y_target.hist()"
   ]
  },
  {
   "cell_type": "code",
   "execution_count": 22,
   "id": "2c31b1bb",
   "metadata": {},
   "outputs": [
    {
     "name": "stdout",
     "output_type": "stream",
     "text": [
      "-0.8514116321738531\n"
     ]
    },
    {
     "data": {
      "text/plain": [
       "<AxesSubplot:>"
      ]
     },
     "execution_count": 22,
     "metadata": {},
     "output_type": "execute_result"
    },
    {
     "data": {
      "image/png": "[encoded data removed]",
      "text/plain": [
       "<Figure size 432x288 with 1 Axes>"
      ]
     },
     "metadata": {
      "needs_background": "light"
     },
     "output_type": "display_data"
    }
   ],
   "source": [
    "scaled_y = np.log1p(y_target)\n",
    "print(scaled_y.skew())\n",
    "scaled_y.hist()"
   ]
  },
  {
   "cell_type": "code",
   "execution_count": 25,
   "id": "885b9913",
   "metadata": {},
   "outputs": [
    {
     "name": "stdout",
     "output_type": "stream",
     "text": [
      "RMSLE: 181.859, RMSE:  263.118, MAE: 189.887\n",
      "      real_count  predicted_count   diff\n",
      "3128       834.0             76.0  758.0\n",
      "1019       835.0             89.0  746.0\n",
      "2615       148.0            888.0  740.0\n",
      "819        784.0             72.0  712.0\n",
      "2570       797.0            111.0  686.0\n"
     ]
    }
   ],
   "source": [
    "y_target = train_df['count']\n",
    "y_target_log = np.log1p(y_target)\n",
    "X_features = train_df.drop(['count'], axis=1, inplace=False)\n",
    "\n",
    "X_train, X_test, y_train, y_test = train_test_split(X_features, y_target_log, test_size=0.3)\n",
    "\n",
    "y_test_exp = np.expm1(y_test)\n",
    "lr_reg = LinearRegression()\n",
    "lr_reg.fit(X_train, y_train)\n",
    "pred = lr_reg.predict(X_test)\n",
    "pred_exp = np.expm1(pred)\n",
    "\n",
    "evaluate_regr(y_test_exp, pred_exp)\n",
    "get_top_error_data(y_test_exp, pred_exp, 5)"
   ]
  },
  {
   "cell_type": "code",
   "execution_count": 27,
   "id": "b9d08466",
   "metadata": {},
   "outputs": [],
   "source": [
    "import seaborn as sns"
   ]
  },
  {
   "cell_type": "code",
   "execution_count": 28,
   "id": "d26f85b6",
   "metadata": {
    "scrolled": true
   },
   "outputs": [
    {
     "data": {
      "text/plain": [
       "<AxesSubplot:>"
      ]
     },
     "execution_count": 28,
     "metadata": {},
     "output_type": "execute_result"
    },
    {
     "data": {
      "image/png": "[encoded data removed]",
      "text/plain": [
       "<Figure size 432x288 with 1 Axes>"
      ]
     },
     "metadata": {
      "needs_background": "light"
     },
     "output_type": "display_data"
    }
   ],
   "source": [
    "coef = pd.Series(lr_reg.coef_, index=X_features.columns)\n",
    "coef_sort = coef.sort_values(ascending=False)\n",
    "sns.barplot(x=coef_sort.values, y=coef_sort.index)"
   ]
  },
  {
   "cell_type": "code",
   "execution_count": 30,
   "id": "9f7d5b61",
   "metadata": {},
   "outputs": [],
   "source": [
    "X_features_ohe = pd.get_dummies(X_features, columns=['year', 'month', 'day', 'hour', 'holiday', 'workingday', 'season', 'weather'])"
   ]
  },
  {
   "cell_type": "code",
   "execution_count": 40,
   "id": "8350ba18",
   "metadata": {},
   "outputs": [
    {
     "name": "stdout",
     "output_type": "stream",
     "text": [
      "RMSLE: 3.152, RMSE:  261.067, MAE: 189.846\n"
     ]
    }
   ],
   "source": [
    "y_target = train_df['count']\n",
    "y_target_log = np.log1p(y_target)\n",
    "X_features = train_df.drop(['count'], axis=1, inplace=False)\n",
    "X_features_ohe = pd.get_dummies(X_features, columns=['year', 'month', 'day', 'hour', 'holiday', 'workingday', 'season', 'weather'])\n",
    "\n",
    "X_train, X_test, y_train, y_test = train_test_split(X_features_ohe, y_target_log, test_size=0.3, random_state=0)\n",
    "\n",
    "y_test_exp = np.expm1(y_test)\n",
    "lr_reg = LinearRegression()\n",
    "lr_reg.fit(X_train, y_train)\n",
    "pred = lr_reg.predict(X_test)\n",
    "pred_exp = np.expm1(pred)\n",
    "\n",
    "evaluate_regr(y_test_exp, pred_exp)"
   ]
  },
  {
   "cell_type": "code",
   "execution_count": 47,
   "id": "599aa403",
   "metadata": {},
   "outputs": [],
   "source": [
    "X_train, X_test, y_train, y_test = train_test_split(X_features_ohe, y_target_log, test_size=0.3, random_state=0)\n",
    "\n",
    "def get_model_predict(model, X_train, X_test, y_train, y_test, is_expm1=False):\n",
    "    model.fit(X_train, y_train)\n",
    "    pred = model.predict(X_test)\n",
    "    if is_expm1:\n",
    "        pred = np.expm1(pred)\n",
    "        y_test = np.expm1(y_test)\n",
    "    print('###', model.__class__.__name__, '###')\n",
    "    evaluate_regr(y_test, pred)"
   ]
  },
  {
   "cell_type": "code",
   "execution_count": 50,
   "id": "217a79fb",
   "metadata": {},
   "outputs": [
    {
     "name": "stdout",
     "output_type": "stream",
     "text": [
      "### LinearRegression ###\n",
      "RMSLE: 3.203, RMSE:  261.509, MAE: 189.972\n",
      "### Ridge ###\n",
      "RMSLE: 3.203, RMSE:  261.509, MAE: 189.972\n",
      "### Lasso ###\n",
      "RMSLE: 3.203, RMSE:  261.509, MAE: 189.972\n"
     ]
    }
   ],
   "source": [
    "lr_reg = LinearRegression()\n",
    "ridge_reg = Ridge(alpha=10)\n",
    "lasso_reg = Lasso(alpha=0.1)\n",
    "\n",
    "for model in [lr_reg, ridge_reg, lasso_reg]:\n",
    "    get_model_predict(model, X_train, X_test, y_train, y_test, is_expm1=True)"
   ]
  },
  {
   "cell_type": "code",
   "execution_count": 52,
   "id": "12c01835",
   "metadata": {},
   "outputs": [
    {
     "data": {
      "text/plain": [
       "<AxesSubplot:>"
      ]
     },
     "execution_count": 52,
     "metadata": {},
     "output_type": "execute_result"
    },
    {
     "data": {
      "image/png": "[encoded data removed]",
      "text/plain": [
       "<Figure size 432x288 with 1 Axes>"
      ]
     },
     "metadata": {
      "needs_background": "light"
     },
     "output_type": "display_data"
    }
   ],
   "source": [
    "coef = pd.Series(lr_reg.coef_, index=X_features_ohe.columns)\n",
    "coef_sort = coef.sort_values(ascending=False)[:20]\n",
    "sns.barplot(x=coef_sort.values, y=coef_sort.index)"
   ]
  },
  {
   "cell_type": "markdown",
   "id": "ee60ff11",
   "metadata": {},
   "source": [
    "# House"
   ]
  },
  {
   "cell_type": "code",
   "execution_count": 2,
   "id": "08b75d17",
   "metadata": {},
   "outputs": [
    {
     "name": "stdout",
     "output_type": "stream",
     "text": [
      "['data_description.txt', 'sample_submission.csv', 'test.csv', 'train.csv']\n"
     ]
    }
   ],
   "source": [
    "import os\n",
    "\n",
    "datapath = 'data/kaggle_house'\n",
    "listdir = os.listdir(datapath)\n",
    "print(listdir)"
   ]
  },
  {
   "cell_type": "code",
   "execution_count": null,
   "id": "76752bfe",
   "metadata": {},
   "outputs": [],
   "source": []
  }
 ],
 "metadata": {
  "hide_input": false,
  "kernelspec": {
   "display_name": "Python 3",
   "language": "python",
   "name": "python3"
  },
  "language_info": {
   "codemirror_mode": {
    "name": "ipython",
    "version": 3
   },
   "file_extension": ".py",
   "mimetype": "text/x-python",
   "name": "python",
   "nbconvert_exporter": "python",
   "pygments_lexer": "ipython3",
   "version": "3.8.8"
  },
  "toc": {
   "base_numbering": 1,
   "nav_menu": {},
   "number_sections": true,
   "sideBar": true,
   "skip_h1_title": false,
   "title_cell": "Table of Contents",
   "title_sidebar": "Contents",
   "toc_cell": false,
   "toc_position": {},
   "toc_section_display": true,
   "toc_window_display": true
  }
 },
 "nbformat": 4,
 "nbformat_minor": 5
}
