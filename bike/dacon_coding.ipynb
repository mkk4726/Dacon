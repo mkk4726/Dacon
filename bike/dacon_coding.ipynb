{
 "cells": [
  {
   "cell_type": "markdown",
   "id": "5f6c2412",
   "metadata": {},
   "source": [
    "# 평가지표"
   ]
  },
  {
   "cell_type": "code",
   "execution_count": 6,
   "id": "1f8f986e",
   "metadata": {},
   "outputs": [],
   "source": [
    "import numpy as np\n",
    "\n",
    "def NMAE(true, pred):\n",
    "    score = np.mean(np.abs(true-pred)/ true)\n",
    "    return score"
   ]
  },
  {
   "cell_type": "markdown",
   "id": "78e87d0a",
   "metadata": {},
   "source": [
    "# 데이터 로딩"
   ]
  },
  {
   "cell_type": "markdown",
   "id": "0ef2a40e",
   "metadata": {},
   "source": [
    "학습시간이 오래 걸리는 모델의 경우 colab에 옮겨서 실행할거라서 로딩부분을 따로 정리해놓는다."
   ]
  },
  {
   "cell_type": "markdown",
   "id": "63546994",
   "metadata": {},
   "source": [
    "## colab"
   ]
  },
  {
   "cell_type": "code",
   "execution_count": null,
   "id": "04a5c665",
   "metadata": {},
   "outputs": [],
   "source": [
    "from google.colab import drive\n",
    "drive.mount('/content/gdriv')\n",
    "\n",
    "import os\n",
    "\n",
    "datapath = '/content/gdriv/My Drive/Dacon/bike/data'\n",
    "listdir = os.listdir(datapath)\n",
    "print(listdir)"
   ]
  },
  {
   "cell_type": "code",
   "execution_count": 58,
   "id": "f6811faf",
   "metadata": {},
   "outputs": [],
   "source": [
    "import pandas as pd\n",
    "\n",
    "train_df = pd.read_csv(datapath + '/' + listdir[2])\n",
    "test_df = pd.read_csv(datapath + '/' + listdir[1])\n",
    "sub_df = pd.read_csv(datapath + '/' + listdir[0])"
   ]
  },
  {
   "cell_type": "markdown",
   "id": "287e0521",
   "metadata": {},
   "source": [
    "## jupyter"
   ]
  },
  {
   "cell_type": "code",
   "execution_count": 1,
   "id": "be95d6af",
   "metadata": {},
   "outputs": [
    {
     "name": "stdout",
     "output_type": "stream",
     "text": [
      "['sample_submission.csv', 'test.csv', 'train.csv']\n"
     ]
    }
   ],
   "source": [
    "import os\n",
    "\n",
    "datapath = 'data/dacon_bike'\n",
    "listdir = os.listdir(datapath)\n",
    "print(listdir)"
   ]
  },
  {
   "cell_type": "code",
   "execution_count": 133,
   "id": "623392ed",
   "metadata": {
    "scrolled": true
   },
   "outputs": [],
   "source": [
    "import pandas as pd\n",
    "\n",
    "train = pd.read_csv(datapath + '/' + listdir[2])\n",
    "test = pd.read_csv(datapath + '/' + listdir[1])\n",
    "sub = pd.read_csv(datapath + '/' + listdir[0])\n",
    "\n",
    "train_df = train.copy()\n",
    "test_df = test.copy()\n",
    "sub_df = sub.copy()"
   ]
  },
  {
   "cell_type": "code",
   "execution_count": 86,
   "id": "2e3101a2",
   "metadata": {},
   "outputs": [
    {
     "data": {
      "text/html": [
       "<div>\n",
       "<style scoped>\n",
       "    .dataframe tbody tr th:only-of-type {\n",
       "        vertical-align: middle;\n",
       "    }\n",
       "\n",
       "    .dataframe tbody tr th {\n",
       "        vertical-align: top;\n",
       "    }\n",
       "\n",
       "    .dataframe thead th {\n",
       "        text-align: right;\n",
       "    }\n",
       "</style>\n",
       "<table border=\"1\" class=\"dataframe\">\n",
       "  <thead>\n",
       "    <tr style=\"text-align: right;\">\n",
       "      <th></th>\n",
       "      <th>date_time</th>\n",
       "      <th>wind_direction</th>\n",
       "      <th>sky_condition</th>\n",
       "      <th>precipitation_form</th>\n",
       "      <th>wind_speed</th>\n",
       "      <th>humidity</th>\n",
       "      <th>low_temp</th>\n",
       "      <th>high_temp</th>\n",
       "      <th>Precipitation_Probability</th>\n",
       "    </tr>\n",
       "  </thead>\n",
       "  <tbody>\n",
       "    <tr>\n",
       "      <th>0</th>\n",
       "      <td>2021-04-01</td>\n",
       "      <td>108.833</td>\n",
       "      <td>3.000</td>\n",
       "      <td>0.000</td>\n",
       "      <td>2.900</td>\n",
       "      <td>28.333</td>\n",
       "      <td>11.800</td>\n",
       "      <td>20.667</td>\n",
       "      <td>18.333</td>\n",
       "    </tr>\n",
       "    <tr>\n",
       "      <th>1</th>\n",
       "      <td>2021-04-02</td>\n",
       "      <td>116.717</td>\n",
       "      <td>3.850</td>\n",
       "      <td>0.000</td>\n",
       "      <td>2.662</td>\n",
       "      <td>46.417</td>\n",
       "      <td>12.000</td>\n",
       "      <td>19.000</td>\n",
       "      <td>28.500</td>\n",
       "    </tr>\n",
       "    <tr>\n",
       "      <th>2</th>\n",
       "      <td>2021-04-03</td>\n",
       "      <td>82.669</td>\n",
       "      <td>4.000</td>\n",
       "      <td>0.565</td>\n",
       "      <td>2.165</td>\n",
       "      <td>77.258</td>\n",
       "      <td>8.875</td>\n",
       "      <td>16.368</td>\n",
       "      <td>52.847</td>\n",
       "    </tr>\n",
       "    <tr>\n",
       "      <th>3</th>\n",
       "      <td>2021-04-04</td>\n",
       "      <td>44.123</td>\n",
       "      <td>3.466</td>\n",
       "      <td>0.466</td>\n",
       "      <td>3.747</td>\n",
       "      <td>63.288</td>\n",
       "      <td>6.250</td>\n",
       "      <td>17.368</td>\n",
       "      <td>37.671</td>\n",
       "    </tr>\n",
       "    <tr>\n",
       "      <th>4</th>\n",
       "      <td>2021-04-05</td>\n",
       "      <td>147.791</td>\n",
       "      <td>1.500</td>\n",
       "      <td>0.000</td>\n",
       "      <td>1.560</td>\n",
       "      <td>48.176</td>\n",
       "      <td>7.188</td>\n",
       "      <td>18.684</td>\n",
       "      <td>4.459</td>\n",
       "    </tr>\n",
       "  </tbody>\n",
       "</table>\n",
       "</div>"
      ],
      "text/plain": [
       "    date_time  wind_direction  sky_condition  precipitation_form  wind_speed  \\\n",
       "0  2021-04-01         108.833          3.000               0.000       2.900   \n",
       "1  2021-04-02         116.717          3.850               0.000       2.662   \n",
       "2  2021-04-03          82.669          4.000               0.565       2.165   \n",
       "3  2021-04-04          44.123          3.466               0.466       3.747   \n",
       "4  2021-04-05         147.791          1.500               0.000       1.560   \n",
       "\n",
       "   humidity  low_temp  high_temp  Precipitation_Probability  \n",
       "0    28.333    11.800     20.667                     18.333  \n",
       "1    46.417    12.000     19.000                     28.500  \n",
       "2    77.258     8.875     16.368                     52.847  \n",
       "3    63.288     6.250     17.368                     37.671  \n",
       "4    48.176     7.188     18.684                      4.459  "
      ]
     },
     "execution_count": 86,
     "metadata": {},
     "output_type": "execute_result"
    }
   ],
   "source": [
    "test_df.head()"
   ]
  },
  {
   "cell_type": "markdown",
   "id": "9eaa0008",
   "metadata": {},
   "source": [
    "number_of_rentals : 따릉이 대여량(Y값)  \n",
    "date_time : 날짜  \n",
    "wind_direction : 풍향  \n",
    "sky_condition : 하늘 상태(1 : 맑음, 3 : 구름 많음, 4 : 흐림, 하루에 8번 측정한 값 평균)  \n",
    "precipitation_form : 강수 형태(0 : 맑음, 1 : 비, 마찬가지로 하루에 8번 측정한 값 평균)  \n",
    "wind_speed : 풍속  \n",
    "humidity\t: 습도  \n",
    "low_temp : 최저기온,   \n",
    "high_temp : 최고기온  \n",
    "precipitation_Probability : 강수확률"
   ]
  },
  {
   "cell_type": "markdown",
   "id": "6eb344e3",
   "metadata": {},
   "source": [
    "# EDA"
   ]
  },
  {
   "cell_type": "markdown",
   "id": "de895d6a",
   "metadata": {},
   "source": [
    "## null값 확인"
   ]
  },
  {
   "cell_type": "code",
   "execution_count": 5,
   "id": "ce064faa",
   "metadata": {
    "scrolled": false
   },
   "outputs": [
    {
     "name": "stdout",
     "output_type": "stream",
     "text": [
      "<class 'pandas.core.frame.DataFrame'>\n",
      "RangeIndex: 273 entries, 0 to 272\n",
      "Data columns (total 10 columns):\n",
      " #   Column                     Non-Null Count  Dtype  \n",
      "---  ------                     --------------  -----  \n",
      " 0   date_time                  273 non-null    object \n",
      " 1   wind_direction             273 non-null    float64\n",
      " 2   sky_condition              273 non-null    float64\n",
      " 3   precipitation_form         273 non-null    float64\n",
      " 4   wind_speed                 273 non-null    float64\n",
      " 5   humidity                   273 non-null    float64\n",
      " 6   low_temp                   273 non-null    float64\n",
      " 7   high_temp                  273 non-null    float64\n",
      " 8   Precipitation_Probability  273 non-null    float64\n",
      " 9   number_of_rentals          273 non-null    int64  \n",
      "dtypes: float64(8), int64(1), object(1)\n",
      "memory usage: 21.5+ KB\n"
     ]
    }
   ],
   "source": [
    "train_df.info()"
   ]
  },
  {
   "cell_type": "markdown",
   "id": "52ba4eee",
   "metadata": {},
   "source": [
    "null값이 하나도 없는, 다루기 아주 쉬운 데이터다.  \n",
    "date_time을 전처리해줄 필요가 있어보인다."
   ]
  },
  {
   "cell_type": "markdown",
   "id": "7597151a",
   "metadata": {},
   "source": [
    "## date_time"
   ]
  },
  {
   "cell_type": "code",
   "execution_count": 26,
   "id": "6690f4cf",
   "metadata": {},
   "outputs": [],
   "source": [
    "train_df = train.copy()\n",
    "train_df['date_time'] = train_df['date_time'].apply(pd.to_datetime)\n",
    "\n",
    "train_df['year'] = train_df['date_time'].apply(lambda x: x.year)\n",
    "train_df['month'] = train_df['date_time'].apply(lambda x: x.month)\n",
    "train_df['day'] = train_df['date_time'].apply(lambda x: x.day)\n",
    "train_df['weekday'] = train_df['date_time'].apply(lambda x: x.weekday)"
   ]
  },
  {
   "cell_type": "code",
   "execution_count": 31,
   "id": "e6b8c348",
   "metadata": {},
   "outputs": [
    {
     "name": "stdout",
     "output_type": "stream",
     "text": [
      "[2018 2019 2020]\n"
     ]
    }
   ],
   "source": [
    "year_list = train_df['year'].unique()\n",
    "print(year_list)"
   ]
  },
  {
   "cell_type": "code",
   "execution_count": 33,
   "id": "e6dbf5ed",
   "metadata": {
    "scrolled": false
   },
   "outputs": [
    {
     "data": {
      "image/png": "[encoded data removed]",
      "text/plain": [
       "<Figure size 1440x720 with 3 Axes>"
      ]
     },
     "metadata": {
      "needs_background": "light"
     },
     "output_type": "display_data"
    }
   ],
   "source": [
    "import matplotlib.pyplot as plt\n",
    "\n",
    "fig, axes = plt.subplots(nrows=1, ncols=3, figsize=(20, 10))\n",
    "\n",
    "for i in range(len(year_list)):\n",
    "    axes[i].bar(train_df['date_time'][train_df['year'] == year_list[i]], train_df['number_of_rentals'][train_df['year'] == year_list[i]], width=0.6, color='grey')"
   ]
  },
  {
   "cell_type": "markdown",
   "id": "19e8cd23",
   "metadata": {},
   "source": [
    "4 -> 7로 가면서 대여수가 증가하는 추세를 보인다.  \n",
    "따라서 day 대신 day + 달 수 를 해준 값을 사용할 필요가 있어보인다."
   ]
  },
  {
   "cell_type": "markdown",
   "id": "4733d452",
   "metadata": {},
   "source": [
    "## 상관관계확인"
   ]
  },
  {
   "cell_type": "code",
   "execution_count": 15,
   "id": "2d0e8786",
   "metadata": {
    "scrolled": false
   },
   "outputs": [
    {
     "data": {
      "text/plain": [
       "wind_direction               0.209996\n",
       "sky_condition               -0.384234\n",
       "precipitation_form          -0.420458\n",
       "wind_speed                  -0.464761\n",
       "humidity                    -0.147824\n",
       "low_temp                     0.317741\n",
       "high_temp                    0.423113\n",
       "Precipitation_Probability   -0.449225\n",
       "number_of_rentals            1.000000\n",
       "Name: number_of_rentals, dtype: float64"
      ]
     },
     "execution_count": 15,
     "metadata": {},
     "output_type": "execute_result"
    }
   ],
   "source": [
    "train_df.corr()['number_of_rentals']"
   ]
  },
  {
   "cell_type": "markdown",
   "id": "cc8c39c6",
   "metadata": {},
   "source": [
    "## y_target 분포 그려보기"
   ]
  },
  {
   "cell_type": "code",
   "execution_count": 8,
   "id": "f7cfb258",
   "metadata": {
    "scrolled": true
   },
   "outputs": [
    {
     "name": "stdout",
     "output_type": "stream",
     "text": [
      "-0.09929363438618999\n"
     ]
    },
    {
     "data": {
      "text/plain": [
       "<AxesSubplot:>"
      ]
     },
     "execution_count": 8,
     "metadata": {},
     "output_type": "execute_result"
    },
    {
     "data": {
      "image/png": "[encoded data removed]",
      "text/plain": [
       "<Figure size 432x288 with 1 Axes>"
      ]
     },
     "metadata": {
      "needs_background": "light"
     },
     "output_type": "display_data"
    }
   ],
   "source": [
    "print(train_df['number_of_rentals'].skew())\n",
    "train_df['number_of_rentals'].hist()"
   ]
  },
  {
   "cell_type": "markdown",
   "id": "df4ff15a",
   "metadata": {},
   "source": [
    "y(number_of_rentals)의 분포가 정규분포에 가깝고 편향정도가 0에 수렴하기에 따로 처리해줄 필요가 없어보인다."
   ]
  },
  {
   "cell_type": "markdown",
   "id": "e527c736",
   "metadata": {},
   "source": [
    "## 다중공선성 확인"
   ]
  },
  {
   "cell_type": "markdown",
   "id": "aca1be25",
   "metadata": {},
   "source": [
    "ssu 통계학과님 감사합니다!"
   ]
  },
  {
   "cell_type": "markdown",
   "id": "f7385524",
   "metadata": {},
   "source": [
    "precipitation_form : 강수 형태(0 : 맑음, 1 : 비, 마찬가지로 하루에 8번 측정한 값 평균)  \n",
    "Precipitation_Probability : 강수확률"
   ]
  },
  {
   "cell_type": "code",
   "execution_count": 14,
   "id": "f6554662",
   "metadata": {},
   "outputs": [
    {
     "data": {
      "text/plain": [
       "0.9106089542607186"
      ]
     },
     "execution_count": 14,
     "metadata": {},
     "output_type": "execute_result"
    }
   ],
   "source": [
    "train_df.corr()['precipitation_form']['Precipitation_Probability']"
   ]
  },
  {
   "cell_type": "markdown",
   "id": "6a1ea019",
   "metadata": {},
   "source": [
    "데이터를 보고 직관적으로 알 수 있듯 강수형태와 강수확률은 높은 상관관계를 가진다.  \n",
    "따라서 실제 관측치인 precipitation_from(강수형태)을 데이터로 사용한다. "
   ]
  },
  {
   "cell_type": "markdown",
   "id": "032a602c",
   "metadata": {},
   "source": [
    "## EDA 결과"
   ]
  },
  {
   "cell_type": "markdown",
   "id": "ca33d7ee",
   "metadata": {},
   "source": [
    "EDA -> day전처리, Precipitation_Probability drop"
   ]
  },
  {
   "cell_type": "markdown",
   "id": "6dc9e823",
   "metadata": {},
   "source": [
    "# Data Preprocessing"
   ]
  },
  {
   "cell_type": "code",
   "execution_count": 36,
   "id": "febd8f94",
   "metadata": {},
   "outputs": [
    {
     "name": "stdout",
     "output_type": "stream",
     "text": [
      "[4 5 6]\n"
     ]
    }
   ],
   "source": [
    "month_list = train_df['month'].unique()\n",
    "print(month_list)"
   ]
  },
  {
   "cell_type": "code",
   "execution_count": 37,
   "id": "64b18b56",
   "metadata": {
    "scrolled": true
   },
   "outputs": [
    {
     "name": "stderr",
     "output_type": "stream",
     "text": [
      "<ipython-input-37-b5839ad0edb0>:1: SettingWithCopyWarning: \n",
      "A value is trying to be set on a copy of a slice from a DataFrame\n",
      "\n",
      "See the caveats in the documentation: https://pandas.pydata.org/pandas-docs/stable/user_guide/indexing.html#returning-a-view-versus-a-copy\n",
      "  train_df['day'][train_df['month'] == 5] += 30\n"
     ]
    }
   ],
   "source": [
    "train_df['day'][train_df['month'] == 5] += 30\n",
    "train_df['day'][train_df['month'] == 6] += 61"
   ]
  },
  {
   "cell_type": "markdown",
   "id": "8bb35956",
   "metadata": {},
   "source": [
    "# Modeling"
   ]
  },
  {
   "cell_type": "code",
   "execution_count": 109,
   "id": "3c7d734a",
   "metadata": {},
   "outputs": [],
   "source": [
    "def fit_predict(model, X_train, X_test, y_train, y_test):\n",
    "    model.fit(X_train, y_train)\n",
    "    pred = model.predict(X_test)\n",
    "    print('####', model.__class__.__name__, '####')\n",
    "    print(NMAE(y_test, pred))"
   ]
  },
  {
   "cell_type": "markdown",
   "id": "f190d6a5",
   "metadata": {},
   "source": [
    "## Linear Model"
   ]
  },
  {
   "cell_type": "code",
   "execution_count": 6,
   "id": "80018de0",
   "metadata": {},
   "outputs": [],
   "source": [
    "from sklearn.model_selection import train_test_split\n",
    "from sklearn.preprocessing import StandardScaler"
   ]
  },
  {
   "cell_type": "code",
   "execution_count": 7,
   "id": "c9a8dea1",
   "metadata": {},
   "outputs": [],
   "source": [
    "X_features = train_df.drop(['number_of_rentals'], axis=1, inplace=False)\n",
    "y_target = train_df['number_of_rentals']\n",
    "X_train, X_test, y_train, y_test = train_test_split(X_features, y_target, test_size=0.3)"
   ]
  },
  {
   "cell_type": "code",
   "execution_count": 8,
   "id": "dab607d9",
   "metadata": {},
   "outputs": [],
   "source": [
    "from sklearn.linear_model import LinearRegression\n",
    "from sklearn.linear_model import Ridge\n",
    "from sklearn.linear_model import Lasso"
   ]
  },
  {
   "cell_type": "code",
   "execution_count": 9,
   "id": "bf838c3f",
   "metadata": {},
   "outputs": [],
   "source": [
    "lr_reg = LinearRegression()\n",
    "ridge_reg = Ridge(alpha=10)\n",
    "lasso_reg = Lasso(alpha=0.1)"
   ]
  },
  {
   "cell_type": "code",
   "execution_count": 50,
   "id": "9db4cbd2",
   "metadata": {},
   "outputs": [],
   "source": [
    "drop_columns = ['wind_direction', 'humidity']\n",
    "X_features = get_X_features(train_df, is_y=True, drop_columns = drop_columns)\n",
    "y_target = train_df['number_of_rentals']\n",
    "X_train, X_test, y_train, y_test = train_test_split(X_features, y_target, test_size=0.3)"
   ]
  },
  {
   "cell_type": "code",
   "execution_count": 64,
   "id": "948f265b",
   "metadata": {
    "scrolled": true
   },
   "outputs": [
    {
     "name": "stdout",
     "output_type": "stream",
     "text": [
      "#### LinearRegression\n",
      "0.17002263486893915\n",
      "#### Ridge\n",
      "0.1650463244828472\n",
      "#### Lasso\n",
      "0.17001040978197396\n"
     ]
    }
   ],
   "source": [
    "for model in [lr_reg, ridge_reg, lasso_reg]:\n",
    "    fit_predict(model, X_train, X_test, y_train, y_test)"
   ]
  },
  {
   "cell_type": "markdown",
   "id": "6c52c264",
   "metadata": {},
   "source": [
    "### GridSearch"
   ]
  },
  {
   "cell_type": "code",
   "execution_count": 65,
   "id": "dd5a5a25",
   "metadata": {},
   "outputs": [],
   "source": [
    "from sklearn.model_selection import GridSearchCV\n",
    "\n",
    "ridge_reg = Ridge()\n",
    "ridge_params = {'alpha':[0.05, 0.1, 1, 5, 8, 10, 12, 15, 20]}\n",
    "ridge_grid = GridSearchCV(ridge_reg, param_grid=ridge_params, scoring='neg_mean_squared_error', cv=5)\n",
    "#ridge_grid.fit(X_train, y_train)\n",
    "\n",
    "lasso_reg = Lasso()\n",
    "lasso_params = {'alpha':[0.001, 0.005, 0.008, 0.05, 0.03, 0.1, 0.5, 1, 5, 10]}\n",
    "lasso_grid = GridSearchCV(lasso_reg, param_grid=lasso_params, scoring='neg_mean_squared_error', cv=5)\n",
    "#lasso_grid.fit(X_train, y_train)"
   ]
  },
  {
   "cell_type": "code",
   "execution_count": 71,
   "id": "68cd01de",
   "metadata": {},
   "outputs": [
    {
     "name": "stdout",
     "output_type": "stream",
     "text": [
      "#### GridSearchCV ####\n",
      "0.16422054232942682\n"
     ]
    }
   ],
   "source": [
    "ridge_grid = GridSearchCV(ridge_reg, param_grid=ridge_params, scoring='neg_mean_squared_error', cv=10, refit=True)\n",
    "fit_predict(ridge_grid,  X_train, X_test, y_train, y_test)"
   ]
  },
  {
   "cell_type": "code",
   "execution_count": 87,
   "id": "244efe1d",
   "metadata": {},
   "outputs": [
    {
     "name": "stdout",
     "output_type": "stream",
     "text": [
      "#### GridSearchCV ####\n",
      "0.16785049275765507\n",
      "{'alpha': 10}\n"
     ]
    },
    {
     "name": "stderr",
     "output_type": "stream",
     "text": [
      "C:\\Users\\mkk47\\anaconda3\\lib\\site-packages\\sklearn\\linear_model\\_coordinate_descent.py:530: ConvergenceWarning: Objective did not converge. You might want to increase the number of iterations. Duality gap: 5579966372.111241, tolerance: 12313331.881851975\n",
      "  model = cd_fast.enet_coordinate_descent(\n",
      "C:\\Users\\mkk47\\anaconda3\\lib\\site-packages\\sklearn\\linear_model\\_coordinate_descent.py:530: ConvergenceWarning: Objective did not converge. You might want to increase the number of iterations. Duality gap: 6958184194.17225, tolerance: 12505629.085589543\n",
      "  model = cd_fast.enet_coordinate_descent(\n",
      "C:\\Users\\mkk47\\anaconda3\\lib\\site-packages\\sklearn\\linear_model\\_coordinate_descent.py:530: ConvergenceWarning: Objective did not converge. You might want to increase the number of iterations. Duality gap: 6815075224.412994, tolerance: 11924364.713752942\n",
      "  model = cd_fast.enet_coordinate_descent(\n",
      "C:\\Users\\mkk47\\anaconda3\\lib\\site-packages\\sklearn\\linear_model\\_coordinate_descent.py:530: ConvergenceWarning: Objective did not converge. You might want to increase the number of iterations. Duality gap: 7114405522.453462, tolerance: 12161444.401224837\n",
      "  model = cd_fast.enet_coordinate_descent(\n",
      "C:\\Users\\mkk47\\anaconda3\\lib\\site-packages\\sklearn\\linear_model\\_coordinate_descent.py:530: ConvergenceWarning: Objective did not converge. You might want to increase the number of iterations. Duality gap: 8911562872.583357, tolerance: 12767889.291264053\n",
      "  model = cd_fast.enet_coordinate_descent(\n",
      "C:\\Users\\mkk47\\anaconda3\\lib\\site-packages\\sklearn\\linear_model\\_coordinate_descent.py:530: ConvergenceWarning: Objective did not converge. You might want to increase the number of iterations. Duality gap: 3795062016.3367033, tolerance: 12505629.085589543\n",
      "  model = cd_fast.enet_coordinate_descent(\n",
      "C:\\Users\\mkk47\\anaconda3\\lib\\site-packages\\sklearn\\linear_model\\_coordinate_descent.py:530: ConvergenceWarning: Objective did not converge. You might want to increase the number of iterations. Duality gap: 6857559551.923391, tolerance: 12161444.401224837\n",
      "  model = cd_fast.enet_coordinate_descent(\n",
      "C:\\Users\\mkk47\\anaconda3\\lib\\site-packages\\sklearn\\linear_model\\_coordinate_descent.py:530: ConvergenceWarning: Objective did not converge. You might want to increase the number of iterations. Duality gap: 8389293610.77526, tolerance: 12767889.291264053\n",
      "  model = cd_fast.enet_coordinate_descent(\n",
      "C:\\Users\\mkk47\\anaconda3\\lib\\site-packages\\sklearn\\linear_model\\_coordinate_descent.py:530: ConvergenceWarning: Objective did not converge. You might want to increase the number of iterations. Duality gap: 2652375942.682479, tolerance: 12505629.085589543\n",
      "  model = cd_fast.enet_coordinate_descent(\n",
      "C:\\Users\\mkk47\\anaconda3\\lib\\site-packages\\sklearn\\linear_model\\_coordinate_descent.py:530: ConvergenceWarning: Objective did not converge. You might want to increase the number of iterations. Duality gap: 6673925479.123997, tolerance: 12161444.401224837\n",
      "  model = cd_fast.enet_coordinate_descent(\n",
      "C:\\Users\\mkk47\\anaconda3\\lib\\site-packages\\sklearn\\linear_model\\_coordinate_descent.py:530: ConvergenceWarning: Objective did not converge. You might want to increase the number of iterations. Duality gap: 8026974127.513747, tolerance: 12767889.291264053\n",
      "  model = cd_fast.enet_coordinate_descent(\n",
      "C:\\Users\\mkk47\\anaconda3\\lib\\site-packages\\sklearn\\linear_model\\_coordinate_descent.py:530: ConvergenceWarning: Objective did not converge. You might want to increase the number of iterations. Duality gap: 243574295.30926514, tolerance: 12505629.085589543\n",
      "  model = cd_fast.enet_coordinate_descent(\n",
      "C:\\Users\\mkk47\\anaconda3\\lib\\site-packages\\sklearn\\linear_model\\_coordinate_descent.py:530: ConvergenceWarning: Objective did not converge. You might want to increase the number of iterations. Duality gap: 4722045159.632769, tolerance: 12161444.401224837\n",
      "  model = cd_fast.enet_coordinate_descent(\n",
      "C:\\Users\\mkk47\\anaconda3\\lib\\site-packages\\sklearn\\linear_model\\_coordinate_descent.py:530: ConvergenceWarning: Objective did not converge. You might want to increase the number of iterations. Duality gap: 4701772544.504851, tolerance: 12767889.291264053\n",
      "  model = cd_fast.enet_coordinate_descent(\n",
      "C:\\Users\\mkk47\\anaconda3\\lib\\site-packages\\sklearn\\linear_model\\_coordinate_descent.py:530: ConvergenceWarning: Objective did not converge. You might want to increase the number of iterations. Duality gap: 546110942.0554905, tolerance: 12505629.085589543\n",
      "  model = cd_fast.enet_coordinate_descent(\n",
      "C:\\Users\\mkk47\\anaconda3\\lib\\site-packages\\sklearn\\linear_model\\_coordinate_descent.py:530: ConvergenceWarning: Objective did not converge. You might want to increase the number of iterations. Duality gap: 5526786527.856068, tolerance: 12161444.401224837\n",
      "  model = cd_fast.enet_coordinate_descent(\n",
      "C:\\Users\\mkk47\\anaconda3\\lib\\site-packages\\sklearn\\linear_model\\_coordinate_descent.py:530: ConvergenceWarning: Objective did not converge. You might want to increase the number of iterations. Duality gap: 5961421608.208441, tolerance: 12767889.291264053\n",
      "  model = cd_fast.enet_coordinate_descent(\n",
      "C:\\Users\\mkk47\\anaconda3\\lib\\site-packages\\sklearn\\linear_model\\_coordinate_descent.py:530: ConvergenceWarning: Objective did not converge. You might want to increase the number of iterations. Duality gap: 72554837.33749962, tolerance: 12505629.085589543\n",
      "  model = cd_fast.enet_coordinate_descent(\n",
      "C:\\Users\\mkk47\\anaconda3\\lib\\site-packages\\sklearn\\linear_model\\_coordinate_descent.py:530: ConvergenceWarning: Objective did not converge. You might want to increase the number of iterations. Duality gap: 3338154433.0321083, tolerance: 12161444.401224837\n",
      "  model = cd_fast.enet_coordinate_descent(\n",
      "C:\\Users\\mkk47\\anaconda3\\lib\\site-packages\\sklearn\\linear_model\\_coordinate_descent.py:530: ConvergenceWarning: Objective did not converge. You might want to increase the number of iterations. Duality gap: 2864690641.679221, tolerance: 12767889.291264053\n",
      "  model = cd_fast.enet_coordinate_descent(\n",
      "C:\\Users\\mkk47\\anaconda3\\lib\\site-packages\\sklearn\\linear_model\\_coordinate_descent.py:530: ConvergenceWarning: Objective did not converge. You might want to increase the number of iterations. Duality gap: 641668720.7709293, tolerance: 12161444.401224837\n",
      "  model = cd_fast.enet_coordinate_descent(\n",
      "C:\\Users\\mkk47\\anaconda3\\lib\\site-packages\\sklearn\\linear_model\\_coordinate_descent.py:530: ConvergenceWarning: Objective did not converge. You might want to increase the number of iterations. Duality gap: 362775503.699131, tolerance: 12767889.291264053\n",
      "  model = cd_fast.enet_coordinate_descent(\n",
      "C:\\Users\\mkk47\\anaconda3\\lib\\site-packages\\sklearn\\linear_model\\_coordinate_descent.py:530: ConvergenceWarning: Objective did not converge. You might want to increase the number of iterations. Duality gap: 220074722.16354752, tolerance: 12161444.401224837\n",
      "  model = cd_fast.enet_coordinate_descent(\n",
      "C:\\Users\\mkk47\\anaconda3\\lib\\site-packages\\sklearn\\linear_model\\_coordinate_descent.py:530: ConvergenceWarning: Objective did not converge. You might want to increase the number of iterations. Duality gap: 105409280.16278458, tolerance: 12767889.291264053\n",
      "  model = cd_fast.enet_coordinate_descent(\n",
      "C:\\Users\\mkk47\\anaconda3\\lib\\site-packages\\sklearn\\linear_model\\_coordinate_descent.py:530: ConvergenceWarning: Objective did not converge. You might want to increase the number of iterations. Duality gap: 12532835.822278976, tolerance: 12161444.401224837\n",
      "  model = cd_fast.enet_coordinate_descent(\n"
     ]
    }
   ],
   "source": [
    "lasso_grid = GridSearchCV(lasso_reg, param_grid=lasso_params, scoring='neg_mean_squared_error', cv=5)\n",
    "fit_predict(lasso_grid,  X_train, X_test, y_train, y_test)\n",
    "print(lasso_grid.best_params_)"
   ]
  },
  {
   "cell_type": "code",
   "execution_count": 77,
   "id": "b4cf3891",
   "metadata": {},
   "outputs": [
    {
     "name": "stdout",
     "output_type": "stream",
     "text": [
      "{'alpha': 5}\n"
     ]
    },
    {
     "data": {
      "text/html": [
       "<div>\n",
       "<style scoped>\n",
       "    .dataframe tbody tr th:only-of-type {\n",
       "        vertical-align: middle;\n",
       "    }\n",
       "\n",
       "    .dataframe tbody tr th {\n",
       "        vertical-align: top;\n",
       "    }\n",
       "\n",
       "    .dataframe thead th {\n",
       "        text-align: right;\n",
       "    }\n",
       "</style>\n",
       "<table border=\"1\" class=\"dataframe\">\n",
       "  <thead>\n",
       "    <tr style=\"text-align: right;\">\n",
       "      <th></th>\n",
       "      <th>mean_test_score</th>\n",
       "      <th>rank_test_score</th>\n",
       "      <th>param_alpha</th>\n",
       "    </tr>\n",
       "  </thead>\n",
       "  <tbody>\n",
       "    <tr>\n",
       "      <th>0</th>\n",
       "      <td>-1.407268e+08</td>\n",
       "      <td>9</td>\n",
       "      <td>0.05</td>\n",
       "    </tr>\n",
       "    <tr>\n",
       "      <th>1</th>\n",
       "      <td>-1.398729e+08</td>\n",
       "      <td>8</td>\n",
       "      <td>0.1</td>\n",
       "    </tr>\n",
       "    <tr>\n",
       "      <th>2</th>\n",
       "      <td>-1.340002e+08</td>\n",
       "      <td>5</td>\n",
       "      <td>1</td>\n",
       "    </tr>\n",
       "    <tr>\n",
       "      <th>3</th>\n",
       "      <td>-1.315853e+08</td>\n",
       "      <td>1</td>\n",
       "      <td>5</td>\n",
       "    </tr>\n",
       "    <tr>\n",
       "      <th>4</th>\n",
       "      <td>-1.321646e+08</td>\n",
       "      <td>2</td>\n",
       "      <td>8</td>\n",
       "    </tr>\n",
       "    <tr>\n",
       "      <th>5</th>\n",
       "      <td>-1.328833e+08</td>\n",
       "      <td>3</td>\n",
       "      <td>10</td>\n",
       "    </tr>\n",
       "    <tr>\n",
       "      <th>6</th>\n",
       "      <td>-1.337881e+08</td>\n",
       "      <td>4</td>\n",
       "      <td>12</td>\n",
       "    </tr>\n",
       "    <tr>\n",
       "      <th>7</th>\n",
       "      <td>-1.354230e+08</td>\n",
       "      <td>6</td>\n",
       "      <td>15</td>\n",
       "    </tr>\n",
       "    <tr>\n",
       "      <th>8</th>\n",
       "      <td>-1.387236e+08</td>\n",
       "      <td>7</td>\n",
       "      <td>20</td>\n",
       "    </tr>\n",
       "  </tbody>\n",
       "</table>\n",
       "</div>"
      ],
      "text/plain": [
       "   mean_test_score  rank_test_score param_alpha\n",
       "0    -1.407268e+08                9        0.05\n",
       "1    -1.398729e+08                8         0.1\n",
       "2    -1.340002e+08                5           1\n",
       "3    -1.315853e+08                1           5\n",
       "4    -1.321646e+08                2           8\n",
       "5    -1.328833e+08                3          10\n",
       "6    -1.337881e+08                4          12\n",
       "7    -1.354230e+08                6          15\n",
       "8    -1.387236e+08                7          20"
      ]
     },
     "execution_count": 77,
     "metadata": {},
     "output_type": "execute_result"
    }
   ],
   "source": [
    "print(ridge_grid.best_params_)\n",
    "pd.DataFrame(ridge_grid.cv_results_)[['mean_test_score', 'rank_test_score', 'param_alpha']]"
   ]
  },
  {
   "cell_type": "code",
   "execution_count": null,
   "id": "6b155413",
   "metadata": {},
   "outputs": [],
   "source": []
  },
  {
   "cell_type": "code",
   "execution_count": null,
   "id": "ff3fb5f1",
   "metadata": {},
   "outputs": [],
   "source": []
  },
  {
   "cell_type": "code",
   "execution_count": null,
   "id": "972e02d6",
   "metadata": {},
   "outputs": [],
   "source": []
  },
  {
   "cell_type": "code",
   "execution_count": null,
   "id": "c8845435",
   "metadata": {},
   "outputs": [],
   "source": []
  },
  {
   "cell_type": "code",
   "execution_count": null,
   "id": "75ce8fe3",
   "metadata": {},
   "outputs": [],
   "source": []
  },
  {
   "cell_type": "code",
   "execution_count": null,
   "id": "a5e4ae33",
   "metadata": {},
   "outputs": [],
   "source": []
  },
  {
   "cell_type": "code",
   "execution_count": null,
   "id": "6a378a11",
   "metadata": {},
   "outputs": [],
   "source": []
  },
  {
   "cell_type": "code",
   "execution_count": null,
   "id": "c8ca8a70",
   "metadata": {},
   "outputs": [],
   "source": []
  },
  {
   "cell_type": "code",
   "execution_count": null,
   "id": "4719c28d",
   "metadata": {},
   "outputs": [],
   "source": []
  },
  {
   "cell_type": "code",
   "execution_count": null,
   "id": "60a96a67",
   "metadata": {},
   "outputs": [],
   "source": []
  },
  {
   "cell_type": "markdown",
   "id": "f4b4cf3e",
   "metadata": {},
   "source": [
    "### 회귀계수 그려보기"
   ]
  },
  {
   "cell_type": "code",
   "execution_count": 61,
   "id": "9eba695a",
   "metadata": {},
   "outputs": [],
   "source": [
    "import seaborn as sns"
   ]
  },
  {
   "cell_type": "code",
   "execution_count": 84,
   "id": "05b02c6a",
   "metadata": {},
   "outputs": [
    {
     "data": {
      "text/plain": [
       "LinearRegression()"
      ]
     },
     "execution_count": 84,
     "metadata": {},
     "output_type": "execute_result"
    }
   ],
   "source": [
    "X_train, X_test, y_train, y_test = train_test_split(X_features, y_target, test_size=0.3, random_state=0)\n",
    "lr_reg.fit(X_train, y_train)"
   ]
  },
  {
   "cell_type": "code",
   "execution_count": 86,
   "id": "f8c57cf3",
   "metadata": {},
   "outputs": [
    {
     "name": "stderr",
     "output_type": "stream",
     "text": [
      "C:\\Users\\mkk47\\anaconda3\\lib\\site-packages\\seaborn\\_decorators.py:36: FutureWarning: Pass the following variables as keyword args: x, y. From version 0.12, the only valid positional argument will be `data`, and passing other arguments without an explicit keyword will result in an error or misinterpretation.\n",
      "  warnings.warn(\n"
     ]
    },
    {
     "data": {
      "text/plain": [
       "<AxesSubplot:>"
      ]
     },
     "execution_count": 86,
     "metadata": {},
     "output_type": "execute_result"
    },
    {
     "data": {
      "image/png": "[encoded data removed]",
      "text/plain": [
       "<Figure size 432x288 with 1 Axes>"
      ]
     },
     "metadata": {
      "needs_background": "light"
     },
     "output_type": "display_data"
    }
   ],
   "source": [
    "coef = pd.Series(lr_reg.coef_, index=X_features.columns)\n",
    "coef_sorted = coef.sort_values(ascending=False)\n",
    "sns.barplot(coef_sorted.values, coef_sorted.index)"
   ]
  },
  {
   "cell_type": "markdown",
   "id": "6c6544a0",
   "metadata": {},
   "source": [
    "precipitation_form(강수 형태), year  \n",
    "이 두개 칼럼의 회귀계수값이 너무 크다는 것을 알 수 있다."
   ]
  },
  {
   "cell_type": "markdown",
   "id": "952dd2fe",
   "metadata": {},
   "source": [
    "## 데이터 전처리"
   ]
  },
  {
   "cell_type": "markdown",
   "id": "b8646d8a",
   "metadata": {},
   "source": [
    "### one-hot encoding\n",
    "year, month, day 를 범주형 변수로 바꿔준다."
   ]
  },
  {
   "cell_type": "code",
   "execution_count": 91,
   "id": "53444b6a",
   "metadata": {},
   "outputs": [],
   "source": [
    "X_features_ohe = pd.get_dummies(X_features, columns=['year', 'month', 'day'])"
   ]
  },
  {
   "cell_type": "code",
   "execution_count": 92,
   "id": "e608f94e",
   "metadata": {},
   "outputs": [],
   "source": [
    "X_train, X_test, y_train, y_test = train_test_split(X_features_ohe, y_target, test_size=0.3, random_state=0)"
   ]
  },
  {
   "cell_type": "code",
   "execution_count": 17,
   "id": "a7527bf9",
   "metadata": {
    "scrolled": true
   },
   "outputs": [
    {
     "name": "stdout",
     "output_type": "stream",
     "text": [
      "1.6067612384704e-14\n",
      "0.05180690224043133\n",
      "0.000501278245225233\n"
     ]
    }
   ],
   "source": [
    "for model in [lr_reg, ridge_reg, lasso_reg]:\n",
    "    fit_predict(model, X_train, X_test, y_train, y_test)"
   ]
  },
  {
   "cell_type": "code",
   "execution_count": 94,
   "id": "d4261983",
   "metadata": {},
   "outputs": [
    {
     "data": {
      "text/plain": [
       "LinearRegression()"
      ]
     },
     "execution_count": 94,
     "metadata": {},
     "output_type": "execute_result"
    }
   ],
   "source": [
    "lr_reg.fit(X_train, y_train)"
   ]
  },
  {
   "cell_type": "code",
   "execution_count": 96,
   "id": "ca51f373",
   "metadata": {},
   "outputs": [
    {
     "name": "stderr",
     "output_type": "stream",
     "text": [
      "C:\\Users\\mkk47\\anaconda3\\lib\\site-packages\\seaborn\\_decorators.py:36: FutureWarning: Pass the following variables as keyword args: x, y. From version 0.12, the only valid positional argument will be `data`, and passing other arguments without an explicit keyword will result in an error or misinterpretation.\n",
      "  warnings.warn(\n"
     ]
    },
    {
     "data": {
      "text/plain": [
       "<AxesSubplot:>"
      ]
     },
     "execution_count": 96,
     "metadata": {},
     "output_type": "execute_result"
    },
    {
     "data": {
      "image/png": "[encoded data removed]",
      "text/plain": [
       "<Figure size 432x288 with 1 Axes>"
      ]
     },
     "metadata": {
      "needs_background": "light"
     },
     "output_type": "display_data"
    }
   ],
   "source": [
    "coef = pd.Series(lr_reg.coef_, index=X_features_ohe.columns)\n",
    "coef_sorted = coef.sort_values(ascending=False)[:20]\n",
    "sns.barplot(coef_sorted.values, coef_sorted.index)"
   ]
  },
  {
   "cell_type": "code",
   "execution_count": 98,
   "id": "0870d0e9",
   "metadata": {},
   "outputs": [
    {
     "name": "stderr",
     "output_type": "stream",
     "text": [
      "C:\\Users\\mkk47\\anaconda3\\lib\\site-packages\\seaborn\\_decorators.py:36: FutureWarning: Pass the following variables as keyword args: x, y. From version 0.12, the only valid positional argument will be `data`, and passing other arguments without an explicit keyword will result in an error or misinterpretation.\n",
      "  warnings.warn(\n"
     ]
    },
    {
     "data": {
      "text/plain": [
       "<AxesSubplot:>"
      ]
     },
     "execution_count": 98,
     "metadata": {},
     "output_type": "execute_result"
    },
    {
     "data": {
      "image/png": "[encoded data removed]",
      "text/plain": [
       "<Figure size 432x288 with 1 Axes>"
      ]
     },
     "metadata": {
      "needs_background": "light"
     },
     "output_type": "display_data"
    }
   ],
   "source": [
    "coef = pd.Series(lr_reg.coef_, index=X_features_ohe.columns)\n",
    "coef_sorted = coef.sort_values(ascending=False)[-20:]\n",
    "sns.barplot(coef_sorted.values, coef_sorted.index)"
   ]
  },
  {
   "cell_type": "markdown",
   "id": "9d6e13db",
   "metadata": {},
   "source": [
    "정확도에 큰 향상은 없어보인다."
   ]
  },
  {
   "cell_type": "code",
   "execution_count": 101,
   "id": "5dc9bba4",
   "metadata": {},
   "outputs": [
    {
     "data": {
      "text/html": [
       "<div>\n",
       "<style scoped>\n",
       "    .dataframe tbody tr th:only-of-type {\n",
       "        vertical-align: middle;\n",
       "    }\n",
       "\n",
       "    .dataframe tbody tr th {\n",
       "        vertical-align: top;\n",
       "    }\n",
       "\n",
       "    .dataframe thead th {\n",
       "        text-align: right;\n",
       "    }\n",
       "</style>\n",
       "<table border=\"1\" class=\"dataframe\">\n",
       "  <thead>\n",
       "    <tr style=\"text-align: right;\">\n",
       "      <th></th>\n",
       "      <th>wind_direction</th>\n",
       "      <th>sky_condition</th>\n",
       "      <th>precipitation_form</th>\n",
       "      <th>wind_speed</th>\n",
       "      <th>humidity</th>\n",
       "      <th>low_temp</th>\n",
       "      <th>high_temp</th>\n",
       "      <th>Precipitation_Probability</th>\n",
       "      <th>number_of_rentals</th>\n",
       "      <th>year</th>\n",
       "      <th>month</th>\n",
       "      <th>day</th>\n",
       "    </tr>\n",
       "  </thead>\n",
       "  <tbody>\n",
       "    <tr>\n",
       "      <th>count</th>\n",
       "      <td>273.000000</td>\n",
       "      <td>273.000000</td>\n",
       "      <td>273.000000</td>\n",
       "      <td>273.000000</td>\n",
       "      <td>273.000000</td>\n",
       "      <td>273.000000</td>\n",
       "      <td>273.000000</td>\n",
       "      <td>273.000000</td>\n",
       "      <td>273.000000</td>\n",
       "      <td>273.000000</td>\n",
       "      <td>273.000000</td>\n",
       "      <td>273.000000</td>\n",
       "    </tr>\n",
       "    <tr>\n",
       "      <th>mean</th>\n",
       "      <td>202.750967</td>\n",
       "      <td>2.288256</td>\n",
       "      <td>0.100963</td>\n",
       "      <td>2.480963</td>\n",
       "      <td>56.745491</td>\n",
       "      <td>13.795249</td>\n",
       "      <td>23.384733</td>\n",
       "      <td>16.878103</td>\n",
       "      <td>59574.978022</td>\n",
       "      <td>2019.000000</td>\n",
       "      <td>5.000000</td>\n",
       "      <td>15.670330</td>\n",
       "    </tr>\n",
       "    <tr>\n",
       "      <th>std</th>\n",
       "      <td>56.659232</td>\n",
       "      <td>0.961775</td>\n",
       "      <td>0.203193</td>\n",
       "      <td>0.884397</td>\n",
       "      <td>12.351268</td>\n",
       "      <td>5.107711</td>\n",
       "      <td>5.204605</td>\n",
       "      <td>16.643772</td>\n",
       "      <td>27659.575774</td>\n",
       "      <td>0.817996</td>\n",
       "      <td>0.813489</td>\n",
       "      <td>8.774195</td>\n",
       "    </tr>\n",
       "    <tr>\n",
       "      <th>min</th>\n",
       "      <td>57.047000</td>\n",
       "      <td>1.000000</td>\n",
       "      <td>0.000000</td>\n",
       "      <td>0.753000</td>\n",
       "      <td>24.831000</td>\n",
       "      <td>1.938000</td>\n",
       "      <td>9.895000</td>\n",
       "      <td>0.000000</td>\n",
       "      <td>1037.000000</td>\n",
       "      <td>2018.000000</td>\n",
       "      <td>4.000000</td>\n",
       "      <td>1.000000</td>\n",
       "    </tr>\n",
       "    <tr>\n",
       "      <th>25%</th>\n",
       "      <td>171.541000</td>\n",
       "      <td>1.405000</td>\n",
       "      <td>0.000000</td>\n",
       "      <td>1.820000</td>\n",
       "      <td>47.196000</td>\n",
       "      <td>9.938000</td>\n",
       "      <td>19.842000</td>\n",
       "      <td>4.054000</td>\n",
       "      <td>36761.000000</td>\n",
       "      <td>2018.000000</td>\n",
       "      <td>4.000000</td>\n",
       "      <td>8.000000</td>\n",
       "    </tr>\n",
       "    <tr>\n",
       "      <th>50%</th>\n",
       "      <td>209.774000</td>\n",
       "      <td>2.167000</td>\n",
       "      <td>0.000000</td>\n",
       "      <td>2.411000</td>\n",
       "      <td>55.845000</td>\n",
       "      <td>14.375000</td>\n",
       "      <td>24.158000</td>\n",
       "      <td>12.162000</td>\n",
       "      <td>63032.000000</td>\n",
       "      <td>2019.000000</td>\n",
       "      <td>5.000000</td>\n",
       "      <td>16.000000</td>\n",
       "    </tr>\n",
       "    <tr>\n",
       "      <th>75%</th>\n",
       "      <td>238.412000</td>\n",
       "      <td>3.000000</td>\n",
       "      <td>0.088000</td>\n",
       "      <td>2.924000</td>\n",
       "      <td>66.419000</td>\n",
       "      <td>18.000000</td>\n",
       "      <td>27.526000</td>\n",
       "      <td>22.973000</td>\n",
       "      <td>81515.000000</td>\n",
       "      <td>2020.000000</td>\n",
       "      <td>6.000000</td>\n",
       "      <td>23.000000</td>\n",
       "    </tr>\n",
       "    <tr>\n",
       "      <th>max</th>\n",
       "      <td>321.622000</td>\n",
       "      <td>4.000000</td>\n",
       "      <td>1.000000</td>\n",
       "      <td>5.607000</td>\n",
       "      <td>88.885000</td>\n",
       "      <td>22.312000</td>\n",
       "      <td>33.421000</td>\n",
       "      <td>82.162000</td>\n",
       "      <td>110377.000000</td>\n",
       "      <td>2020.000000</td>\n",
       "      <td>6.000000</td>\n",
       "      <td>31.000000</td>\n",
       "    </tr>\n",
       "  </tbody>\n",
       "</table>\n",
       "</div>"
      ],
      "text/plain": [
       "       wind_direction  sky_condition  precipitation_form  wind_speed  \\\n",
       "count      273.000000     273.000000          273.000000  273.000000   \n",
       "mean       202.750967       2.288256            0.100963    2.480963   \n",
       "std         56.659232       0.961775            0.203193    0.884397   \n",
       "min         57.047000       1.000000            0.000000    0.753000   \n",
       "25%        171.541000       1.405000            0.000000    1.820000   \n",
       "50%        209.774000       2.167000            0.000000    2.411000   \n",
       "75%        238.412000       3.000000            0.088000    2.924000   \n",
       "max        321.622000       4.000000            1.000000    5.607000   \n",
       "\n",
       "         humidity    low_temp   high_temp  Precipitation_Probability  \\\n",
       "count  273.000000  273.000000  273.000000                 273.000000   \n",
       "mean    56.745491   13.795249   23.384733                  16.878103   \n",
       "std     12.351268    5.107711    5.204605                  16.643772   \n",
       "min     24.831000    1.938000    9.895000                   0.000000   \n",
       "25%     47.196000    9.938000   19.842000                   4.054000   \n",
       "50%     55.845000   14.375000   24.158000                  12.162000   \n",
       "75%     66.419000   18.000000   27.526000                  22.973000   \n",
       "max     88.885000   22.312000   33.421000                  82.162000   \n",
       "\n",
       "       number_of_rentals         year       month         day  \n",
       "count         273.000000   273.000000  273.000000  273.000000  \n",
       "mean        59574.978022  2019.000000    5.000000   15.670330  \n",
       "std         27659.575774     0.817996    0.813489    8.774195  \n",
       "min          1037.000000  2018.000000    4.000000    1.000000  \n",
       "25%         36761.000000  2018.000000    4.000000    8.000000  \n",
       "50%         63032.000000  2019.000000    5.000000   16.000000  \n",
       "75%         81515.000000  2020.000000    6.000000   23.000000  \n",
       "max        110377.000000  2020.000000    6.000000   31.000000  "
      ]
     },
     "execution_count": 101,
     "metadata": {},
     "output_type": "execute_result"
    }
   ],
   "source": [
    "train_df.describe()"
   ]
  },
  {
   "cell_type": "markdown",
   "id": "0434195c",
   "metadata": {},
   "source": [
    "### 정규화 \n",
    "피처마다 평균값에 큰 차이가 있으니 정규화를 해준다."
   ]
  },
  {
   "cell_type": "code",
   "execution_count": 103,
   "id": "5fedfd6a",
   "metadata": {},
   "outputs": [],
   "source": [
    "from sklearn.preprocessing import StandardScaler"
   ]
  },
  {
   "cell_type": "code",
   "execution_count": 114,
   "id": "74cbfcfc",
   "metadata": {},
   "outputs": [],
   "source": [
    "scaler = StandardScaler()\n",
    "train_df_scaled = pd.DataFrame(scaler.fit_transform(train_df), columns=train_df.columns)"
   ]
  },
  {
   "cell_type": "code",
   "execution_count": 107,
   "id": "9da269b2",
   "metadata": {},
   "outputs": [
    {
     "data": {
      "text/html": [
       "<div>\n",
       "<style scoped>\n",
       "    .dataframe tbody tr th:only-of-type {\n",
       "        vertical-align: middle;\n",
       "    }\n",
       "\n",
       "    .dataframe tbody tr th {\n",
       "        vertical-align: top;\n",
       "    }\n",
       "\n",
       "    .dataframe thead th {\n",
       "        text-align: right;\n",
       "    }\n",
       "</style>\n",
       "<table border=\"1\" class=\"dataframe\">\n",
       "  <thead>\n",
       "    <tr style=\"text-align: right;\">\n",
       "      <th></th>\n",
       "      <th>wind_direction</th>\n",
       "      <th>sky_condition</th>\n",
       "      <th>precipitation_form</th>\n",
       "      <th>wind_speed</th>\n",
       "      <th>humidity</th>\n",
       "      <th>low_temp</th>\n",
       "      <th>high_temp</th>\n",
       "      <th>Precipitation_Probability</th>\n",
       "      <th>number_of_rentals</th>\n",
       "      <th>year</th>\n",
       "      <th>month</th>\n",
       "      <th>day</th>\n",
       "    </tr>\n",
       "  </thead>\n",
       "  <tbody>\n",
       "    <tr>\n",
       "      <th>count</th>\n",
       "      <td>2.730000e+02</td>\n",
       "      <td>2.730000e+02</td>\n",
       "      <td>2.730000e+02</td>\n",
       "      <td>2.730000e+02</td>\n",
       "      <td>2.730000e+02</td>\n",
       "      <td>2.730000e+02</td>\n",
       "      <td>2.730000e+02</td>\n",
       "      <td>2.730000e+02</td>\n",
       "      <td>2.730000e+02</td>\n",
       "      <td>2.730000e+02</td>\n",
       "      <td>2.730000e+02</td>\n",
       "      <td>2.730000e+02</td>\n",
       "    </tr>\n",
       "    <tr>\n",
       "      <th>mean</th>\n",
       "      <td>1.285093e-16</td>\n",
       "      <td>-3.253401e-18</td>\n",
       "      <td>-6.669472e-17</td>\n",
       "      <td>2.358716e-16</td>\n",
       "      <td>-2.334315e-16</td>\n",
       "      <td>-3.904081e-17</td>\n",
       "      <td>-7.165615e-16</td>\n",
       "      <td>1.065489e-16</td>\n",
       "      <td>-2.757257e-16</td>\n",
       "      <td>6.506802e-18</td>\n",
       "      <td>-3.253401e-18</td>\n",
       "      <td>3.741411e-17</td>\n",
       "    </tr>\n",
       "    <tr>\n",
       "      <th>std</th>\n",
       "      <td>1.001837e+00</td>\n",
       "      <td>1.001837e+00</td>\n",
       "      <td>1.001837e+00</td>\n",
       "      <td>1.001837e+00</td>\n",
       "      <td>1.001837e+00</td>\n",
       "      <td>1.001837e+00</td>\n",
       "      <td>1.001837e+00</td>\n",
       "      <td>1.001837e+00</td>\n",
       "      <td>1.001837e+00</td>\n",
       "      <td>1.001837e+00</td>\n",
       "      <td>1.001837e+00</td>\n",
       "      <td>1.001837e+00</td>\n",
       "    </tr>\n",
       "    <tr>\n",
       "      <th>min</th>\n",
       "      <td>-2.576307e+00</td>\n",
       "      <td>-1.341917e+00</td>\n",
       "      <td>-4.977971e-01</td>\n",
       "      <td>-1.957420e+00</td>\n",
       "      <td>-2.588650e+00</td>\n",
       "      <td>-2.325704e+00</td>\n",
       "      <td>-2.596644e+00</td>\n",
       "      <td>-1.015942e+00</td>\n",
       "      <td>-2.120260e+00</td>\n",
       "      <td>-1.224745e+00</td>\n",
       "      <td>-1.231530e+00</td>\n",
       "      <td>-1.675056e+00</td>\n",
       "    </tr>\n",
       "    <tr>\n",
       "      <th>25%</th>\n",
       "      <td>-5.518480e-01</td>\n",
       "      <td>-9.200471e-01</td>\n",
       "      <td>-4.977971e-01</td>\n",
       "      <td>-7.487329e-01</td>\n",
       "      <td>-7.745787e-01</td>\n",
       "      <td>-7.565685e-01</td>\n",
       "      <td>-6.819420e-01</td>\n",
       "      <td>-7.719196e-01</td>\n",
       "      <td>-8.263278e-01</td>\n",
       "      <td>-1.224745e+00</td>\n",
       "      <td>-1.231530e+00</td>\n",
       "      <td>-8.757973e-01</td>\n",
       "    </tr>\n",
       "    <tr>\n",
       "      <th>50%</th>\n",
       "      <td>1.241798e-01</td>\n",
       "      <td>-1.263072e-01</td>\n",
       "      <td>-4.977971e-01</td>\n",
       "      <td>-7.925383e-02</td>\n",
       "      <td>-7.304065e-02</td>\n",
       "      <td>1.137135e-01</td>\n",
       "      <td>1.488465e-01</td>\n",
       "      <td>-2.838758e-01</td>\n",
       "      <td>1.252142e-01</td>\n",
       "      <td>0.000000e+00</td>\n",
       "      <td>0.000000e+00</td>\n",
       "      <td>3.764172e-02</td>\n",
       "    </tr>\n",
       "    <tr>\n",
       "      <th>75%</th>\n",
       "      <td>6.305508e-01</td>\n",
       "      <td>7.413902e-01</td>\n",
       "      <td>-6.391554e-02</td>\n",
       "      <td>5.018676e-01</td>\n",
       "      <td>7.846381e-01</td>\n",
       "      <td>8.247282e-01</td>\n",
       "      <td>7.971542e-01</td>\n",
       "      <td>3.668694e-01</td>\n",
       "      <td>7.946729e-01</td>\n",
       "      <td>1.224745e+00</td>\n",
       "      <td>1.231530e+00</td>\n",
       "      <td>8.369008e-01</td>\n",
       "    </tr>\n",
       "    <tr>\n",
       "      <th>max</th>\n",
       "      <td>2.101852e+00</td>\n",
       "      <td>1.783044e+00</td>\n",
       "      <td>4.432675e+00</td>\n",
       "      <td>3.541144e+00</td>\n",
       "      <td>2.606901e+00</td>\n",
       "      <td>1.670492e+00</td>\n",
       "      <td>1.931885e+00</td>\n",
       "      <td>3.929626e+00</td>\n",
       "      <td>1.840062e+00</td>\n",
       "      <td>1.224745e+00</td>\n",
       "      <td>1.231530e+00</td>\n",
       "      <td>1.750340e+00</td>\n",
       "    </tr>\n",
       "  </tbody>\n",
       "</table>\n",
       "</div>"
      ],
      "text/plain": [
       "       wind_direction  sky_condition  precipitation_form    wind_speed  \\\n",
       "count    2.730000e+02   2.730000e+02        2.730000e+02  2.730000e+02   \n",
       "mean     1.285093e-16  -3.253401e-18       -6.669472e-17  2.358716e-16   \n",
       "std      1.001837e+00   1.001837e+00        1.001837e+00  1.001837e+00   \n",
       "min     -2.576307e+00  -1.341917e+00       -4.977971e-01 -1.957420e+00   \n",
       "25%     -5.518480e-01  -9.200471e-01       -4.977971e-01 -7.487329e-01   \n",
       "50%      1.241798e-01  -1.263072e-01       -4.977971e-01 -7.925383e-02   \n",
       "75%      6.305508e-01   7.413902e-01       -6.391554e-02  5.018676e-01   \n",
       "max      2.101852e+00   1.783044e+00        4.432675e+00  3.541144e+00   \n",
       "\n",
       "           humidity      low_temp     high_temp  Precipitation_Probability  \\\n",
       "count  2.730000e+02  2.730000e+02  2.730000e+02               2.730000e+02   \n",
       "mean  -2.334315e-16 -3.904081e-17 -7.165615e-16               1.065489e-16   \n",
       "std    1.001837e+00  1.001837e+00  1.001837e+00               1.001837e+00   \n",
       "min   -2.588650e+00 -2.325704e+00 -2.596644e+00              -1.015942e+00   \n",
       "25%   -7.745787e-01 -7.565685e-01 -6.819420e-01              -7.719196e-01   \n",
       "50%   -7.304065e-02  1.137135e-01  1.488465e-01              -2.838758e-01   \n",
       "75%    7.846381e-01  8.247282e-01  7.971542e-01               3.668694e-01   \n",
       "max    2.606901e+00  1.670492e+00  1.931885e+00               3.929626e+00   \n",
       "\n",
       "       number_of_rentals          year         month           day  \n",
       "count       2.730000e+02  2.730000e+02  2.730000e+02  2.730000e+02  \n",
       "mean       -2.757257e-16  6.506802e-18 -3.253401e-18  3.741411e-17  \n",
       "std         1.001837e+00  1.001837e+00  1.001837e+00  1.001837e+00  \n",
       "min        -2.120260e+00 -1.224745e+00 -1.231530e+00 -1.675056e+00  \n",
       "25%        -8.263278e-01 -1.224745e+00 -1.231530e+00 -8.757973e-01  \n",
       "50%         1.252142e-01  0.000000e+00  0.000000e+00  3.764172e-02  \n",
       "75%         7.946729e-01  1.224745e+00  1.231530e+00  8.369008e-01  \n",
       "max         1.840062e+00  1.224745e+00  1.231530e+00  1.750340e+00  "
      ]
     },
     "execution_count": 107,
     "metadata": {},
     "output_type": "execute_result"
    }
   ],
   "source": [
    "train_df_scaled.describe()"
   ]
  },
  {
   "cell_type": "code",
   "execution_count": 115,
   "id": "ff95090c",
   "metadata": {},
   "outputs": [],
   "source": [
    "X_features = train_df_scaled.drop(['number_of_rentals'], axis=1, inplace=False)\n",
    "X_features['year'] = train_df['year']\n",
    "X_features['month'] = train_df['month']\n",
    "X_features['day'] = train_df['day']\n",
    "X_features_ohe = pd.get_dummies(X_features, columns=['year', 'month', 'day'])\n",
    "\n",
    "X_train, X_test, y_train, y_test = train_test_split(X_features_ohe, y_target, test_size=0.3, random_state=0)"
   ]
  },
  {
   "cell_type": "code",
   "execution_count": 120,
   "id": "80bb4fe2",
   "metadata": {
    "scrolled": false
   },
   "outputs": [
    {
     "name": "stdout",
     "output_type": "stream",
     "text": [
      "0.5348246625961409\n",
      "0.45011820666159424\n",
      "0.5345660455188328\n"
     ]
    },
    {
     "name": "stderr",
     "output_type": "stream",
     "text": [
      "C:\\Users\\mkk47\\anaconda3\\lib\\site-packages\\sklearn\\linear_model\\_coordinate_descent.py:530: ConvergenceWarning: Objective did not converge. You might want to increase the number of iterations. Duality gap: 5919599208.042435, tolerance: 14594361.626619898\n",
      "  model = cd_fast.enet_coordinate_descent(\n"
     ]
    }
   ],
   "source": [
    "for model in [lr_reg, ridge_reg, lasso_reg]:\n",
    "    fit_predict(model, X_train, X_test, y_train, y_test)"
   ]
  },
  {
   "cell_type": "markdown",
   "id": "ec2732f1",
   "metadata": {},
   "source": [
    "one-hot encoding, StandardScaler를 적용한 데이터를 학습한 결과 ridge모델이 가장 좋은 성능을 보인다.  \n",
    "이를 바탕을 제출해보자."
   ]
  },
  {
   "cell_type": "markdown",
   "id": "340c63bb",
   "metadata": {},
   "source": [
    "### corr"
   ]
  },
  {
   "cell_type": "code",
   "execution_count": 43,
   "id": "5eb2d098",
   "metadata": {},
   "outputs": [
    {
     "data": {
      "text/plain": [
       "wind_direction               0.209996\n",
       "sky_condition               -0.384234\n",
       "precipitation_form          -0.420458\n",
       "wind_speed                  -0.464761\n",
       "humidity                    -0.147824\n",
       "low_temp                     0.317741\n",
       "high_temp                    0.423113\n",
       "Precipitation_Probability   -0.449225\n",
       "number_of_rentals            1.000000\n",
       "Name: number_of_rentals, dtype: float64"
      ]
     },
     "execution_count": 43,
     "metadata": {},
     "output_type": "execute_result"
    }
   ],
   "source": [
    "train_df.corr()['number_of_rentals']"
   ]
  },
  {
   "cell_type": "markdown",
   "id": "4cc5612e",
   "metadata": {},
   "source": [
    "상관관계가 높은 것들로만 모델링을 진행해보자.  \n",
    "- wind_direction(바람 방향), 바람 방향이 자전거를 타는데 영향을 미쳤을 거라고는 판단되지 않는다.  \n",
    "- humidity(습도), 영향을 미쳤을 것 가다고 생각했지만 낮기 때문에 삭제한다."
   ]
  },
  {
   "cell_type": "code",
   "execution_count": 44,
   "id": "04ce2489",
   "metadata": {},
   "outputs": [],
   "source": [
    "X_features = get_X_features(train_df)"
   ]
  },
  {
   "cell_type": "code",
   "execution_count": 46,
   "id": "1c9beaed",
   "metadata": {},
   "outputs": [
    {
     "data": {
      "text/plain": [
       "wind_direction               0.209996\n",
       "sky_condition               -0.384234\n",
       "precipitation_form          -0.420458\n",
       "wind_speed                  -0.464761\n",
       "humidity                    -0.147824\n",
       "low_temp                     0.317741\n",
       "high_temp                    0.423113\n",
       "Precipitation_Probability   -0.449225\n",
       "number_of_rentals            1.000000\n",
       "year                         0.739011\n",
       "month                        0.320019\n",
       "day                          0.050760\n",
       "Name: number_of_rentals, dtype: float64"
      ]
     },
     "execution_count": 46,
     "metadata": {},
     "output_type": "execute_result"
    }
   ],
   "source": [
    "X_features.corr()['number_of_rentals']"
   ]
  },
  {
   "cell_type": "markdown",
   "id": "054f036d",
   "metadata": {},
   "source": [
    "전처리 된 데이터로 상관관계를 다시 확인. day의 상관도가 굉장히 낮다.  \n",
    "여기서 드는 의문점을 3월2일과 3월, 2일은 다른데 따로 분리해서 사용해도 되는 걸까?"
   ]
  },
  {
   "cell_type": "code",
   "execution_count": 40,
   "id": "4a739308",
   "metadata": {},
   "outputs": [],
   "source": [
    "drop_columns = ['wind_direction', 'humidity', 'Precipitation_Probability drop', 'month']"
   ]
  },
  {
   "cell_type": "markdown",
   "id": "1814adf0",
   "metadata": {},
   "source": [
    "### 데이터 전처리 함수 정리"
   ]
  },
  {
   "cell_type": "code",
   "execution_count": 46,
   "id": "54e96df9",
   "metadata": {},
   "outputs": [],
   "source": [
    "from sklearn.preprocessing import StandardScaler"
   ]
  },
  {
   "cell_type": "code",
   "execution_count": 61,
   "id": "c4cce620",
   "metadata": {},
   "outputs": [],
   "source": [
    "def get_X_features(df_1, drop_columns, is_y=False):\n",
    "    df = df_1.copy()\n",
    "    df.drop(drop_columns, axis=1, inplace=True)\n",
    "\n",
    "    if is_y:\n",
    "        df.drop(['number_of_rentals'], axis=1, inplace=True)\n",
    "    df['date_time'] = df['date_time'].apply(pd.to_datetime)\n",
    "\n",
    "    df['year'] = df['date_time'].apply(lambda x: x.year)\n",
    "    df['month'] = df['date_time'].apply(lambda x: x.month)\n",
    "    df['day'] = df['date_time'].apply(lambda x: x.day)\n",
    "    #df['weekday'] = df['date_time'].apply(lambda x: x.weekday)\n",
    "    \n",
    "    df['day'][df['month'] == 5] += 30\n",
    "    df['day'][df['month'] == 6] += 61\n",
    "    \n",
    "    df.drop(['date_time', 'month'], axis=1, inplace=True)\n",
    "   # temp = df.copy()\n",
    "   # scaler = StandardScaler()\n",
    "    #df_scaled = pd.DataFrame(scaler.fit_transform(df), columns=df.columns)\n",
    "    \n",
    "    #X_features = df_scaled\n",
    "    #X_features['year'] = temp['year']\n",
    "    #X_features['day'] = temp['day']\n",
    "    #X_features['weekday'] = temp['weekday']\n",
    "    #X_features_ohe = pd.get_dummies(X_features, columns=['year', 'month', 'day'])\n",
    "    \n",
    "    return df"
   ]
  },
  {
   "cell_type": "markdown",
   "id": "de1675e0",
   "metadata": {},
   "source": [
    "# Sub"
   ]
  },
  {
   "cell_type": "markdown",
   "id": "c0c2b31b",
   "metadata": {},
   "source": [
    "## 데이터 전처리"
   ]
  },
  {
   "cell_type": "code",
   "execution_count": 90,
   "id": "693880f1",
   "metadata": {},
   "outputs": [],
   "source": [
    "drop_columns = ['wind_direction', 'humidity', 'Precipitation_Probability']"
   ]
  },
  {
   "cell_type": "code",
   "execution_count": 129,
   "id": "3d68c0d8",
   "metadata": {
    "scrolled": true
   },
   "outputs": [
    {
     "name": "stderr",
     "output_type": "stream",
     "text": [
      "<ipython-input-61-6828755a4445>:14: SettingWithCopyWarning: \n",
      "A value is trying to be set on a copy of a slice from a DataFrame\n",
      "\n",
      "See the caveats in the documentation: https://pandas.pydata.org/pandas-docs/stable/user_guide/indexing.html#returning-a-view-versus-a-copy\n",
      "  df['day'][df['month'] == 5] += 30\n"
     ]
    }
   ],
   "source": [
    "test_df = get_X_features(test_df, is_y=False, drop_columns=drop_columns)"
   ]
  },
  {
   "cell_type": "code",
   "execution_count": 119,
   "id": "5a04041a",
   "metadata": {
    "scrolled": false
   },
   "outputs": [
    {
     "name": "stderr",
     "output_type": "stream",
     "text": [
      "<ipython-input-61-6828755a4445>:14: SettingWithCopyWarning: \n",
      "A value is trying to be set on a copy of a slice from a DataFrame\n",
      "\n",
      "See the caveats in the documentation: https://pandas.pydata.org/pandas-docs/stable/user_guide/indexing.html#returning-a-view-versus-a-copy\n",
      "  df['day'][df['month'] == 5] += 30\n"
     ]
    }
   ],
   "source": [
    "X_features = get_X_features(train_df, is_y=True, drop_columns=drop_columns)\n",
    "y_target = train_df['number_of_rentals']"
   ]
  },
  {
   "cell_type": "code",
   "execution_count": 125,
   "id": "cb3db09c",
   "metadata": {},
   "outputs": [
    {
     "data": {
      "text/plain": [
       "2018    91\n",
       "2019    91\n",
       "2020    91\n",
       "Name: year, dtype: int64"
      ]
     },
     "execution_count": 125,
     "metadata": {},
     "output_type": "execute_result"
    }
   ],
   "source": [
    "X_features['year'].value_counts()"
   ]
  },
  {
   "cell_type": "code",
   "execution_count": 130,
   "id": "f36e725c",
   "metadata": {
    "scrolled": true
   },
   "outputs": [],
   "source": [
    "total = pd.concat([test_df, X_features], axis=0)"
   ]
  },
  {
   "cell_type": "code",
   "execution_count": 131,
   "id": "96bd85f4",
   "metadata": {
    "scrolled": true
   },
   "outputs": [],
   "source": [
    "scaler = StandardScaler()\n",
    "total = pd.DataFrame(scaler.fit_transform(total), columns=total.columns)\n",
    "test = total[:91]\n",
    "X_features = total[91:]"
   ]
  },
  {
   "cell_type": "markdown",
   "id": "fe352ebb",
   "metadata": {},
   "source": [
    "## LinearModel"
   ]
  },
  {
   "cell_type": "markdown",
   "id": "4afbbf6a",
   "metadata": {},
   "source": [
    "### 모델링"
   ]
  },
  {
   "cell_type": "markdown",
   "id": "d7b5edbe",
   "metadata": {},
   "source": [
    "#### ridge"
   ]
  },
  {
   "cell_type": "code",
   "execution_count": 82,
   "id": "7ecf1f9b",
   "metadata": {},
   "outputs": [
    {
     "data": {
      "text/plain": [
       "Ridge(alpha=5)"
      ]
     },
     "execution_count": 82,
     "metadata": {},
     "output_type": "execute_result"
    }
   ],
   "source": [
    "ridge_reg = Ridge(alpha=5)\n",
    "ridge_reg.fit(X_features, y_target)"
   ]
  },
  {
   "cell_type": "code",
   "execution_count": 83,
   "id": "9eee10a2",
   "metadata": {
    "scrolled": true
   },
   "outputs": [],
   "source": [
    "pred = ridge_reg.predict(test)"
   ]
  },
  {
   "cell_type": "code",
   "execution_count": 84,
   "id": "5407dbed",
   "metadata": {},
   "outputs": [],
   "source": [
    "sub_df['number_of_rentals'] = pred"
   ]
  },
  {
   "cell_type": "code",
   "execution_count": 85,
   "id": "30c992be",
   "metadata": {},
   "outputs": [],
   "source": [
    "sub_df.to_csv('ridge_model3.csv', index=False)"
   ]
  },
  {
   "cell_type": "markdown",
   "id": "2d5e2784",
   "metadata": {},
   "source": [
    "#### lasso"
   ]
  },
  {
   "cell_type": "code",
   "execution_count": 88,
   "id": "3e65ee08",
   "metadata": {},
   "outputs": [
    {
     "data": {
      "text/plain": [
       "Lasso(alpha=10)"
      ]
     },
     "execution_count": 88,
     "metadata": {},
     "output_type": "execute_result"
    }
   ],
   "source": [
    "lasso_reg = Lasso(alpha=10)\n",
    "lasso_reg.fit(X_features, y_target)"
   ]
  },
  {
   "cell_type": "code",
   "execution_count": 89,
   "id": "6e395108",
   "metadata": {},
   "outputs": [],
   "source": [
    "pred = lasso_reg.predict(test)\n",
    "sub_df['number_of_rentals'] = pred\n",
    "sub_df.to_csv('lasso_model_4.csv', index=False)"
   ]
  },
  {
   "cell_type": "markdown",
   "id": "7ff1088c",
   "metadata": {},
   "source": [
    "## CartModel"
   ]
  },
  {
   "cell_type": "markdown",
   "id": "3f8ce3e4",
   "metadata": {},
   "source": [
    "### 모델링"
   ]
  },
  {
   "cell_type": "markdown",
   "id": "a9cfcb1f",
   "metadata": {},
   "source": [
    "#### XGBoost"
   ]
  },
  {
   "cell_type": "code",
   "execution_count": 101,
   "id": "98f406b4",
   "metadata": {},
   "outputs": [],
   "source": [
    "from xgboost import XGBRegressor\n",
    "\n",
    "xgb_params = {'n_estimators': [1000]}\n",
    "xgb_reg = XGBRegressor(n_estimators=1000, learning_rate=0.05, colsample_bytree=0.5, subsample=0.8)\n",
    "#total(xgb_reg, X_train, y_train, X_test, y_test)"
   ]
  },
  {
   "cell_type": "code",
   "execution_count": 107,
   "id": "58593d01",
   "metadata": {},
   "outputs": [],
   "source": [
    "from sklearn.model_selection import train_test_split\n",
    "\n",
    "X_train, X_test, y_train, y_test  = train_test_split(X_features, y_target)"
   ]
  },
  {
   "cell_type": "code",
   "execution_count": 110,
   "id": "77426c4b",
   "metadata": {},
   "outputs": [
    {
     "name": "stdout",
     "output_type": "stream",
     "text": [
      "#### XGBRegressor ####\n",
      "0.17693687737271402\n"
     ]
    }
   ],
   "source": [
    "fit_predict(xgb_reg, X_train, X_test, y_train, y_test)"
   ]
  },
  {
   "cell_type": "code",
   "execution_count": 102,
   "id": "02f3774f",
   "metadata": {},
   "outputs": [
    {
     "data": {
      "text/plain": [
       "XGBRegressor(base_score=0.5, booster='gbtree', colsample_bylevel=1,\n",
       "             colsample_bynode=1, colsample_bytree=0.5, gamma=0, gpu_id=-1,\n",
       "             importance_type='gain', interaction_constraints='',\n",
       "             learning_rate=0.05, max_delta_step=0, max_depth=6,\n",
       "             min_child_weight=1, missing=nan, monotone_constraints='()',\n",
       "             n_estimators=1000, n_jobs=8, num_parallel_tree=1, random_state=0,\n",
       "             reg_alpha=0, reg_lambda=1, scale_pos_weight=1, subsample=0.8,\n",
       "             tree_method='exact', validate_parameters=1, verbosity=None)"
      ]
     },
     "execution_count": 102,
     "metadata": {},
     "output_type": "execute_result"
    }
   ],
   "source": [
    "xgb_reg.fit(X_features, y_target)"
   ]
  },
  {
   "cell_type": "code",
   "execution_count": 104,
   "id": "035f3057",
   "metadata": {},
   "outputs": [
    {
     "data": {
      "text/html": [
       "<div>\n",
       "<style scoped>\n",
       "    .dataframe tbody tr th:only-of-type {\n",
       "        vertical-align: middle;\n",
       "    }\n",
       "\n",
       "    .dataframe tbody tr th {\n",
       "        vertical-align: top;\n",
       "    }\n",
       "\n",
       "    .dataframe thead th {\n",
       "        text-align: right;\n",
       "    }\n",
       "</style>\n",
       "<table border=\"1\" class=\"dataframe\">\n",
       "  <thead>\n",
       "    <tr style=\"text-align: right;\">\n",
       "      <th></th>\n",
       "      <th>date_time</th>\n",
       "      <th>number_of_rentals</th>\n",
       "    </tr>\n",
       "  </thead>\n",
       "  <tbody>\n",
       "    <tr>\n",
       "      <th>0</th>\n",
       "      <td>2021-04-01</td>\n",
       "      <td>0</td>\n",
       "    </tr>\n",
       "    <tr>\n",
       "      <th>1</th>\n",
       "      <td>2021-04-02</td>\n",
       "      <td>0</td>\n",
       "    </tr>\n",
       "    <tr>\n",
       "      <th>2</th>\n",
       "      <td>2021-04-03</td>\n",
       "      <td>0</td>\n",
       "    </tr>\n",
       "    <tr>\n",
       "      <th>3</th>\n",
       "      <td>2021-04-04</td>\n",
       "      <td>0</td>\n",
       "    </tr>\n",
       "    <tr>\n",
       "      <th>4</th>\n",
       "      <td>2021-04-05</td>\n",
       "      <td>0</td>\n",
       "    </tr>\n",
       "  </tbody>\n",
       "</table>\n",
       "</div>"
      ],
      "text/plain": [
       "    date_time  number_of_rentals\n",
       "0  2021-04-01                  0\n",
       "1  2021-04-02                  0\n",
       "2  2021-04-03                  0\n",
       "3  2021-04-04                  0\n",
       "4  2021-04-05                  0"
      ]
     },
     "execution_count": 104,
     "metadata": {},
     "output_type": "execute_result"
    }
   ],
   "source": [
    "sub_df.head()"
   ]
  },
  {
   "cell_type": "code",
   "execution_count": 105,
   "id": "4756d970",
   "metadata": {},
   "outputs": [],
   "source": [
    "sub_df['number_of_rentals'] = xgb_reg.predict(test)"
   ]
  },
  {
   "cell_type": "code",
   "execution_count": 106,
   "id": "52959212",
   "metadata": {},
   "outputs": [],
   "source": [
    "sub_df.to_csv('sub_11.11_1.csv', index=False)"
   ]
  }
 ],
 "metadata": {
  "hide_input": false,
  "kernelspec": {
   "display_name": "Python 3",
   "language": "python",
   "name": "python3"
  },
  "language_info": {
   "codemirror_mode": {
    "name": "ipython",
    "version": 3
   },
   "file_extension": ".py",
   "mimetype": "text/x-python",
   "name": "python",
   "nbconvert_exporter": "python",
   "pygments_lexer": "ipython3",
   "version": "3.8.8"
  },
  "toc": {
   "base_numbering": 1,
   "nav_menu": {},
   "number_sections": true,
   "sideBar": true,
   "skip_h1_title": false,
   "title_cell": "Table of Contents",
   "title_sidebar": "Contents",
   "toc_cell": false,
   "toc_position": {
    "height": "calc(100% - 180px)",
    "left": "10px",
    "top": "150px",
    "width": "279.273px"
   },
   "toc_section_display": true,
   "toc_window_display": true
  }
 },
 "nbformat": 4,
 "nbformat_minor": 5
}
